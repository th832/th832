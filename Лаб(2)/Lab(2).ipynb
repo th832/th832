{
 "cells": [
  {
   "cell_type": "code",
   "execution_count": 1,
   "id": "8ff03fe9",
   "metadata": {},
   "outputs": [],
   "source": [
    "import numpy as np\n",
    "import pandas as pd\n",
    "import seaborn as sns\n",
    "import matplotlib.pyplot as plt\n",
    "from sklearn.impute import SimpleImputer\n",
    "from sklearn.impute import MissingIndicator\n",
    "from sklearn.impute import KNNImputer\n",
    "from sklearn.preprocessing import StandardScaler\n",
    "from sklearn.linear_model import Lasso\n",
    "from sklearn.pipeline import Pipeline\n",
    "from sklearn.model_selection import GridSearchCV\n",
    "from sklearn.ensemble import RandomForestRegressor\n",
    "from sklearn.experimental import enable_iterative_imputer\n",
    "from sklearn.impute import IterativeImputer\n",
    "from IPython.display import Image\n",
    "%matplotlib inline \n",
    "sns.set(style=\"ticks\")"
   ]
  },
  {
   "cell_type": "code",
   "execution_count": 2,
   "id": "8bebcfd6",
   "metadata": {},
   "outputs": [
    {
     "name": "stdout",
     "output_type": "stream",
     "text": [
      "<class 'pandas.core.frame.DataFrame'>\n",
      "RangeIndex: 303 entries, 0 to 302\n",
      "Data columns (total 14 columns):\n",
      " #   Column    Non-Null Count  Dtype  \n",
      "---  ------    --------------  -----  \n",
      " 0   age       303 non-null    float64\n",
      " 1   sex       303 non-null    float64\n",
      " 2   cp        303 non-null    float64\n",
      " 3   trestbps  303 non-null    float64\n",
      " 4   chol      303 non-null    float64\n",
      " 5   fbs       303 non-null    float64\n",
      " 6   restecg   303 non-null    float64\n",
      " 7   thalach   303 non-null    float64\n",
      " 8   exang     303 non-null    float64\n",
      " 9   oldpeak   303 non-null    float64\n",
      " 10  slope     303 non-null    float64\n",
      " 11  ca        303 non-null    float64\n",
      " 12  thal      303 non-null    float64\n",
      " 13  target    303 non-null    float64\n",
      "dtypes: float64(14)\n",
      "memory usage: 33.3 KB\n"
     ]
    }
   ],
   "source": [
    "hdata = pd.read_excel('heart_disease.xlsx')\n",
    "hdata.info()"
   ]
  },
  {
   "cell_type": "code",
   "execution_count": 3,
   "id": "a5e46f39",
   "metadata": {},
   "outputs": [
    {
     "name": "stdout",
     "output_type": "stream",
     "text": [
      "<class 'pandas.core.frame.DataFrame'>\n",
      "RangeIndex: 303 entries, 0 to 302\n",
      "Data columns (total 14 columns):\n",
      " #   Column    Non-Null Count  Dtype  \n",
      "---  ------    --------------  -----  \n",
      " 0   age       303 non-null    float64\n",
      " 1   sex       303 non-null    float64\n",
      " 2   cp        303 non-null    float64\n",
      " 3   trestbps  303 non-null    float64\n",
      " 4   chol      303 non-null    float64\n",
      " 5   fbs       303 non-null    float64\n",
      " 6   restecg   303 non-null    float64\n",
      " 7   thalach   303 non-null    float64\n",
      " 8   exang     303 non-null    float64\n",
      " 9   oldpeak   303 non-null    float64\n",
      " 10  slope     303 non-null    float64\n",
      " 11  ca        303 non-null    float64\n",
      " 12  thal      303 non-null    float64\n",
      " 13  target    303 non-null    float64\n",
      "dtypes: float64(14)\n",
      "memory usage: 33.3 KB\n"
     ]
    }
   ],
   "source": [
    "hdata.info()"
   ]
  },
  {
   "cell_type": "code",
   "execution_count": 4,
   "id": "9ab69a6a",
   "metadata": {},
   "outputs": [
    {
     "data": {
      "text/plain": [
       "(303, 14)"
      ]
     },
     "execution_count": 4,
     "metadata": {},
     "output_type": "execute_result"
    }
   ],
   "source": [
    "hdata.shape"
   ]
  },
  {
   "cell_type": "code",
   "execution_count": 5,
   "id": "96720898",
   "metadata": {},
   "outputs": [
    {
     "data": {
      "text/html": [
       "<div>\n",
       "<style scoped>\n",
       "    .dataframe tbody tr th:only-of-type {\n",
       "        vertical-align: middle;\n",
       "    }\n",
       "\n",
       "    .dataframe tbody tr th {\n",
       "        vertical-align: top;\n",
       "    }\n",
       "\n",
       "    .dataframe thead th {\n",
       "        text-align: right;\n",
       "    }\n",
       "</style>\n",
       "<table border=\"1\" class=\"dataframe\">\n",
       "  <thead>\n",
       "    <tr style=\"text-align: right;\">\n",
       "      <th></th>\n",
       "      <th>age</th>\n",
       "      <th>sex</th>\n",
       "      <th>cp</th>\n",
       "      <th>trestbps</th>\n",
       "      <th>chol</th>\n",
       "      <th>fbs</th>\n",
       "      <th>restecg</th>\n",
       "      <th>thalach</th>\n",
       "      <th>exang</th>\n",
       "      <th>oldpeak</th>\n",
       "      <th>slope</th>\n",
       "      <th>ca</th>\n",
       "      <th>thal</th>\n",
       "      <th>target</th>\n",
       "    </tr>\n",
       "  </thead>\n",
       "  <tbody>\n",
       "    <tr>\n",
       "      <th>0</th>\n",
       "      <td>63.0</td>\n",
       "      <td>1.0</td>\n",
       "      <td>3.0</td>\n",
       "      <td>145.0</td>\n",
       "      <td>233.0</td>\n",
       "      <td>1.0</td>\n",
       "      <td>0.0</td>\n",
       "      <td>150.0</td>\n",
       "      <td>0.0</td>\n",
       "      <td>2.3</td>\n",
       "      <td>0.0</td>\n",
       "      <td>0.0</td>\n",
       "      <td>1.0</td>\n",
       "      <td>1.0</td>\n",
       "    </tr>\n",
       "    <tr>\n",
       "      <th>1</th>\n",
       "      <td>37.0</td>\n",
       "      <td>1.0</td>\n",
       "      <td>2.0</td>\n",
       "      <td>130.0</td>\n",
       "      <td>250.0</td>\n",
       "      <td>0.0</td>\n",
       "      <td>1.0</td>\n",
       "      <td>187.0</td>\n",
       "      <td>0.0</td>\n",
       "      <td>3.5</td>\n",
       "      <td>0.0</td>\n",
       "      <td>0.0</td>\n",
       "      <td>2.0</td>\n",
       "      <td>1.0</td>\n",
       "    </tr>\n",
       "    <tr>\n",
       "      <th>2</th>\n",
       "      <td>41.0</td>\n",
       "      <td>0.0</td>\n",
       "      <td>1.0</td>\n",
       "      <td>130.0</td>\n",
       "      <td>204.0</td>\n",
       "      <td>0.0</td>\n",
       "      <td>0.0</td>\n",
       "      <td>172.0</td>\n",
       "      <td>0.0</td>\n",
       "      <td>1.4</td>\n",
       "      <td>2.0</td>\n",
       "      <td>0.0</td>\n",
       "      <td>2.0</td>\n",
       "      <td>1.0</td>\n",
       "    </tr>\n",
       "    <tr>\n",
       "      <th>3</th>\n",
       "      <td>56.0</td>\n",
       "      <td>1.0</td>\n",
       "      <td>1.0</td>\n",
       "      <td>120.0</td>\n",
       "      <td>236.0</td>\n",
       "      <td>0.0</td>\n",
       "      <td>1.0</td>\n",
       "      <td>178.0</td>\n",
       "      <td>0.0</td>\n",
       "      <td>0.8</td>\n",
       "      <td>2.0</td>\n",
       "      <td>0.0</td>\n",
       "      <td>2.0</td>\n",
       "      <td>1.0</td>\n",
       "    </tr>\n",
       "    <tr>\n",
       "      <th>4</th>\n",
       "      <td>57.0</td>\n",
       "      <td>0.0</td>\n",
       "      <td>0.0</td>\n",
       "      <td>120.0</td>\n",
       "      <td>354.0</td>\n",
       "      <td>0.0</td>\n",
       "      <td>1.0</td>\n",
       "      <td>163.0</td>\n",
       "      <td>1.0</td>\n",
       "      <td>0.6</td>\n",
       "      <td>2.0</td>\n",
       "      <td>0.0</td>\n",
       "      <td>2.0</td>\n",
       "      <td>1.0</td>\n",
       "    </tr>\n",
       "    <tr>\n",
       "      <th>5</th>\n",
       "      <td>57.0</td>\n",
       "      <td>1.0</td>\n",
       "      <td>0.0</td>\n",
       "      <td>140.0</td>\n",
       "      <td>192.0</td>\n",
       "      <td>0.0</td>\n",
       "      <td>1.0</td>\n",
       "      <td>148.0</td>\n",
       "      <td>0.0</td>\n",
       "      <td>0.4</td>\n",
       "      <td>1.0</td>\n",
       "      <td>0.0</td>\n",
       "      <td>1.0</td>\n",
       "      <td>1.0</td>\n",
       "    </tr>\n",
       "    <tr>\n",
       "      <th>6</th>\n",
       "      <td>56.0</td>\n",
       "      <td>0.0</td>\n",
       "      <td>1.0</td>\n",
       "      <td>140.0</td>\n",
       "      <td>294.0</td>\n",
       "      <td>0.0</td>\n",
       "      <td>0.0</td>\n",
       "      <td>153.0</td>\n",
       "      <td>0.0</td>\n",
       "      <td>1.3</td>\n",
       "      <td>1.0</td>\n",
       "      <td>0.0</td>\n",
       "      <td>2.0</td>\n",
       "      <td>1.0</td>\n",
       "    </tr>\n",
       "    <tr>\n",
       "      <th>7</th>\n",
       "      <td>44.0</td>\n",
       "      <td>1.0</td>\n",
       "      <td>1.0</td>\n",
       "      <td>120.0</td>\n",
       "      <td>263.0</td>\n",
       "      <td>0.0</td>\n",
       "      <td>1.0</td>\n",
       "      <td>173.0</td>\n",
       "      <td>0.0</td>\n",
       "      <td>0.0</td>\n",
       "      <td>2.0</td>\n",
       "      <td>0.0</td>\n",
       "      <td>3.0</td>\n",
       "      <td>1.0</td>\n",
       "    </tr>\n",
       "    <tr>\n",
       "      <th>8</th>\n",
       "      <td>52.0</td>\n",
       "      <td>1.0</td>\n",
       "      <td>2.0</td>\n",
       "      <td>172.0</td>\n",
       "      <td>199.0</td>\n",
       "      <td>1.0</td>\n",
       "      <td>1.0</td>\n",
       "      <td>162.0</td>\n",
       "      <td>0.0</td>\n",
       "      <td>0.5</td>\n",
       "      <td>2.0</td>\n",
       "      <td>0.0</td>\n",
       "      <td>3.0</td>\n",
       "      <td>1.0</td>\n",
       "    </tr>\n",
       "    <tr>\n",
       "      <th>9</th>\n",
       "      <td>57.0</td>\n",
       "      <td>1.0</td>\n",
       "      <td>2.0</td>\n",
       "      <td>150.0</td>\n",
       "      <td>168.0</td>\n",
       "      <td>0.0</td>\n",
       "      <td>1.0</td>\n",
       "      <td>174.0</td>\n",
       "      <td>0.0</td>\n",
       "      <td>1.6</td>\n",
       "      <td>2.0</td>\n",
       "      <td>0.0</td>\n",
       "      <td>2.0</td>\n",
       "      <td>1.0</td>\n",
       "    </tr>\n",
       "    <tr>\n",
       "      <th>10</th>\n",
       "      <td>54.0</td>\n",
       "      <td>1.0</td>\n",
       "      <td>0.0</td>\n",
       "      <td>140.0</td>\n",
       "      <td>239.0</td>\n",
       "      <td>0.0</td>\n",
       "      <td>1.0</td>\n",
       "      <td>160.0</td>\n",
       "      <td>0.0</td>\n",
       "      <td>1.2</td>\n",
       "      <td>2.0</td>\n",
       "      <td>0.0</td>\n",
       "      <td>2.0</td>\n",
       "      <td>1.0</td>\n",
       "    </tr>\n",
       "    <tr>\n",
       "      <th>11</th>\n",
       "      <td>48.0</td>\n",
       "      <td>0.0</td>\n",
       "      <td>2.0</td>\n",
       "      <td>130.0</td>\n",
       "      <td>275.0</td>\n",
       "      <td>0.0</td>\n",
       "      <td>1.0</td>\n",
       "      <td>139.0</td>\n",
       "      <td>0.0</td>\n",
       "      <td>0.2</td>\n",
       "      <td>2.0</td>\n",
       "      <td>0.0</td>\n",
       "      <td>2.0</td>\n",
       "      <td>1.0</td>\n",
       "    </tr>\n",
       "    <tr>\n",
       "      <th>12</th>\n",
       "      <td>49.0</td>\n",
       "      <td>1.0</td>\n",
       "      <td>1.0</td>\n",
       "      <td>130.0</td>\n",
       "      <td>266.0</td>\n",
       "      <td>0.0</td>\n",
       "      <td>1.0</td>\n",
       "      <td>171.0</td>\n",
       "      <td>0.0</td>\n",
       "      <td>0.6</td>\n",
       "      <td>2.0</td>\n",
       "      <td>0.0</td>\n",
       "      <td>2.0</td>\n",
       "      <td>1.0</td>\n",
       "    </tr>\n",
       "    <tr>\n",
       "      <th>13</th>\n",
       "      <td>64.0</td>\n",
       "      <td>1.0</td>\n",
       "      <td>3.0</td>\n",
       "      <td>110.0</td>\n",
       "      <td>211.0</td>\n",
       "      <td>0.0</td>\n",
       "      <td>0.0</td>\n",
       "      <td>144.0</td>\n",
       "      <td>1.0</td>\n",
       "      <td>1.8</td>\n",
       "      <td>1.0</td>\n",
       "      <td>0.0</td>\n",
       "      <td>2.0</td>\n",
       "      <td>1.0</td>\n",
       "    </tr>\n",
       "    <tr>\n",
       "      <th>14</th>\n",
       "      <td>58.0</td>\n",
       "      <td>0.0</td>\n",
       "      <td>3.0</td>\n",
       "      <td>150.0</td>\n",
       "      <td>283.0</td>\n",
       "      <td>1.0</td>\n",
       "      <td>0.0</td>\n",
       "      <td>162.0</td>\n",
       "      <td>0.0</td>\n",
       "      <td>1.0</td>\n",
       "      <td>2.0</td>\n",
       "      <td>0.0</td>\n",
       "      <td>2.0</td>\n",
       "      <td>1.0</td>\n",
       "    </tr>\n",
       "    <tr>\n",
       "      <th>15</th>\n",
       "      <td>50.0</td>\n",
       "      <td>0.0</td>\n",
       "      <td>2.0</td>\n",
       "      <td>120.0</td>\n",
       "      <td>219.0</td>\n",
       "      <td>0.0</td>\n",
       "      <td>1.0</td>\n",
       "      <td>158.0</td>\n",
       "      <td>0.0</td>\n",
       "      <td>1.6</td>\n",
       "      <td>1.0</td>\n",
       "      <td>0.0</td>\n",
       "      <td>2.0</td>\n",
       "      <td>1.0</td>\n",
       "    </tr>\n",
       "    <tr>\n",
       "      <th>16</th>\n",
       "      <td>58.0</td>\n",
       "      <td>0.0</td>\n",
       "      <td>2.0</td>\n",
       "      <td>120.0</td>\n",
       "      <td>340.0</td>\n",
       "      <td>0.0</td>\n",
       "      <td>1.0</td>\n",
       "      <td>172.0</td>\n",
       "      <td>0.0</td>\n",
       "      <td>0.0</td>\n",
       "      <td>2.0</td>\n",
       "      <td>0.0</td>\n",
       "      <td>2.0</td>\n",
       "      <td>1.0</td>\n",
       "    </tr>\n",
       "    <tr>\n",
       "      <th>17</th>\n",
       "      <td>66.0</td>\n",
       "      <td>0.0</td>\n",
       "      <td>3.0</td>\n",
       "      <td>150.0</td>\n",
       "      <td>226.0</td>\n",
       "      <td>0.0</td>\n",
       "      <td>1.0</td>\n",
       "      <td>114.0</td>\n",
       "      <td>0.0</td>\n",
       "      <td>2.6</td>\n",
       "      <td>0.0</td>\n",
       "      <td>0.0</td>\n",
       "      <td>2.0</td>\n",
       "      <td>1.0</td>\n",
       "    </tr>\n",
       "    <tr>\n",
       "      <th>18</th>\n",
       "      <td>43.0</td>\n",
       "      <td>1.0</td>\n",
       "      <td>0.0</td>\n",
       "      <td>150.0</td>\n",
       "      <td>247.0</td>\n",
       "      <td>0.0</td>\n",
       "      <td>1.0</td>\n",
       "      <td>171.0</td>\n",
       "      <td>0.0</td>\n",
       "      <td>1.5</td>\n",
       "      <td>2.0</td>\n",
       "      <td>0.0</td>\n",
       "      <td>2.0</td>\n",
       "      <td>1.0</td>\n",
       "    </tr>\n",
       "    <tr>\n",
       "      <th>19</th>\n",
       "      <td>69.0</td>\n",
       "      <td>0.0</td>\n",
       "      <td>3.0</td>\n",
       "      <td>140.0</td>\n",
       "      <td>239.0</td>\n",
       "      <td>0.0</td>\n",
       "      <td>1.0</td>\n",
       "      <td>151.0</td>\n",
       "      <td>0.0</td>\n",
       "      <td>1.8</td>\n",
       "      <td>2.0</td>\n",
       "      <td>2.0</td>\n",
       "      <td>2.0</td>\n",
       "      <td>1.0</td>\n",
       "    </tr>\n",
       "  </tbody>\n",
       "</table>\n",
       "</div>"
      ],
      "text/plain": [
       "     age  sex   cp  trestbps   chol  fbs  restecg  thalach  exang  oldpeak  \\\n",
       "0   63.0  1.0  3.0     145.0  233.0  1.0      0.0    150.0    0.0      2.3   \n",
       "1   37.0  1.0  2.0     130.0  250.0  0.0      1.0    187.0    0.0      3.5   \n",
       "2   41.0  0.0  1.0     130.0  204.0  0.0      0.0    172.0    0.0      1.4   \n",
       "3   56.0  1.0  1.0     120.0  236.0  0.0      1.0    178.0    0.0      0.8   \n",
       "4   57.0  0.0  0.0     120.0  354.0  0.0      1.0    163.0    1.0      0.6   \n",
       "5   57.0  1.0  0.0     140.0  192.0  0.0      1.0    148.0    0.0      0.4   \n",
       "6   56.0  0.0  1.0     140.0  294.0  0.0      0.0    153.0    0.0      1.3   \n",
       "7   44.0  1.0  1.0     120.0  263.0  0.0      1.0    173.0    0.0      0.0   \n",
       "8   52.0  1.0  2.0     172.0  199.0  1.0      1.0    162.0    0.0      0.5   \n",
       "9   57.0  1.0  2.0     150.0  168.0  0.0      1.0    174.0    0.0      1.6   \n",
       "10  54.0  1.0  0.0     140.0  239.0  0.0      1.0    160.0    0.0      1.2   \n",
       "11  48.0  0.0  2.0     130.0  275.0  0.0      1.0    139.0    0.0      0.2   \n",
       "12  49.0  1.0  1.0     130.0  266.0  0.0      1.0    171.0    0.0      0.6   \n",
       "13  64.0  1.0  3.0     110.0  211.0  0.0      0.0    144.0    1.0      1.8   \n",
       "14  58.0  0.0  3.0     150.0  283.0  1.0      0.0    162.0    0.0      1.0   \n",
       "15  50.0  0.0  2.0     120.0  219.0  0.0      1.0    158.0    0.0      1.6   \n",
       "16  58.0  0.0  2.0     120.0  340.0  0.0      1.0    172.0    0.0      0.0   \n",
       "17  66.0  0.0  3.0     150.0  226.0  0.0      1.0    114.0    0.0      2.6   \n",
       "18  43.0  1.0  0.0     150.0  247.0  0.0      1.0    171.0    0.0      1.5   \n",
       "19  69.0  0.0  3.0     140.0  239.0  0.0      1.0    151.0    0.0      1.8   \n",
       "\n",
       "    slope   ca  thal  target  \n",
       "0     0.0  0.0   1.0     1.0  \n",
       "1     0.0  0.0   2.0     1.0  \n",
       "2     2.0  0.0   2.0     1.0  \n",
       "3     2.0  0.0   2.0     1.0  \n",
       "4     2.0  0.0   2.0     1.0  \n",
       "5     1.0  0.0   1.0     1.0  \n",
       "6     1.0  0.0   2.0     1.0  \n",
       "7     2.0  0.0   3.0     1.0  \n",
       "8     2.0  0.0   3.0     1.0  \n",
       "9     2.0  0.0   2.0     1.0  \n",
       "10    2.0  0.0   2.0     1.0  \n",
       "11    2.0  0.0   2.0     1.0  \n",
       "12    2.0  0.0   2.0     1.0  \n",
       "13    1.0  0.0   2.0     1.0  \n",
       "14    2.0  0.0   2.0     1.0  \n",
       "15    1.0  0.0   2.0     1.0  \n",
       "16    2.0  0.0   2.0     1.0  \n",
       "17    0.0  0.0   2.0     1.0  \n",
       "18    2.0  0.0   2.0     1.0  \n",
       "19    2.0  2.0   2.0     1.0  "
      ]
     },
     "execution_count": 5,
     "metadata": {},
     "output_type": "execute_result"
    }
   ],
   "source": [
    "hdata.head(20)"
   ]
  },
  {
   "cell_type": "code",
   "execution_count": 6,
   "id": "41fd7f1a",
   "metadata": {},
   "outputs": [
    {
     "data": {
      "text/plain": [
       "[('age', dtype('float64')),\n",
       " ('sex', dtype('float64')),\n",
       " ('cp', dtype('float64')),\n",
       " ('trestbps', dtype('float64')),\n",
       " ('chol', dtype('float64')),\n",
       " ('fbs', dtype('float64')),\n",
       " ('restecg', dtype('float64')),\n",
       " ('thalach', dtype('float64')),\n",
       " ('exang', dtype('float64')),\n",
       " ('oldpeak', dtype('float64')),\n",
       " ('slope', dtype('float64')),\n",
       " ('ca', dtype('float64')),\n",
       " ('thal', dtype('float64')),\n",
       " ('target', dtype('float64'))]"
      ]
     },
     "execution_count": 6,
     "metadata": {},
     "output_type": "execute_result"
    }
   ],
   "source": [
    "list(zip(hdata.columns, [i for i in hdata.dtypes]))"
   ]
  },
  {
   "cell_type": "code",
   "execution_count": 10,
   "id": "109035f7",
   "metadata": {},
   "outputs": [
    {
     "data": {
      "text/plain": [
       "[]"
      ]
     },
     "execution_count": 10,
     "metadata": {},
     "output_type": "execute_result"
    }
   ],
   "source": [
    "# Колонки с пропусками\n",
    "hcols_with_na = [c for c in hdata.columns if hdata[c].isnull().sum() < 0]\n",
    "hcols_with_na"
   ]
  },
  {
   "cell_type": "code",
   "execution_count": 9,
   "id": "e7404cfe",
   "metadata": {},
   "outputs": [
    {
     "data": {
      "text/plain": [
       "[]"
      ]
     },
     "execution_count": 9,
     "metadata": {},
     "output_type": "execute_result"
    }
   ],
   "source": [
    "# Количество пропусков\n",
    "[(c, hdata[c].isnull().sum()) for c in hcols_with_na]"
   ]
  },
  {
   "cell_type": "code",
   "execution_count": 11,
   "id": "66be3c27",
   "metadata": {},
   "outputs": [
    {
     "data": {
      "text/plain": [
       "[]"
      ]
     },
     "execution_count": 11,
     "metadata": {},
     "output_type": "execute_result"
    }
   ],
   "source": [
    "# Доля (процент) пропусков\n",
    "[(c, hdata[c].isnull().mean()) for c in hcols_with_na]"
   ]
  },
  {
   "cell_type": "code",
   "execution_count": 12,
   "id": "053fed96",
   "metadata": {},
   "outputs": [],
   "source": [
    "# Колонки для которых удаляются пропуски\n",
    "hcols_with_na_temp = ['age', 'sex', 'trestbps', 'target']"
   ]
  },
  {
   "cell_type": "code",
   "execution_count": 13,
   "id": "73a661dd",
   "metadata": {},
   "outputs": [
    {
     "data": {
      "text/plain": [
       "(303, 4)"
      ]
     },
     "execution_count": 13,
     "metadata": {},
     "output_type": "execute_result"
    }
   ],
   "source": [
    "# Удаление пропусков\n",
    "hdata_drop = hdata[hcols_with_na_temp].dropna()\n",
    "hdata_drop.shape"
   ]
  },
  {
   "cell_type": "code",
   "execution_count": 14,
   "id": "f411d872",
   "metadata": {},
   "outputs": [],
   "source": [
    "def plot_hist_diff(old_ds, new_ds, cols):\n",
    "    \"\"\"\n",
    "    Разница между распределениями до и после устранения пропусков\n",
    "    \"\"\"\n",
    "    for c in cols:   \n",
    "        fig = plt.figure()\n",
    "        ax = fig.add_subplot(111)\n",
    "        ax.title.set_text('Поле - ' + str(c))\n",
    "        old_ds[c].hist(bins=50, ax=ax, density=True, color='green', figsize=(15, 8))\n",
    "        new_ds[c].hist(bins=50, ax=ax, color='blue', density=True, alpha=0.5, figsize=(15, 8))\n"
   ]
  },
  {
   "cell_type": "code",
   "execution_count": 15,
   "id": "ec74a4b7",
   "metadata": {},
   "outputs": [
    {
     "data": {
      "image/png": "[encoded data removed]",
      "text/plain": [
       "<Figure size 1080x576 with 1 Axes>"
      ]
     },
     "metadata": {},
     "output_type": "display_data"
    },
    {
     "data": {
      "image/png": "[encoded data removed]",
      "text/plain": [
       "<Figure size 1080x576 with 1 Axes>"
      ]
     },
     "metadata": {},
     "output_type": "display_data"
    },
    {
     "data": {
      "image/png": "[encoded data removed]",
      "text/plain": [
       "<Figure size 1080x576 with 1 Axes>"
      ]
     },
     "metadata": {},
     "output_type": "display_data"
    },
    {
     "data": {
      "image/png": "[encoded data removed]",
      "text/plain": [
       "<Figure size 1080x576 with 1 Axes>"
      ]
     },
     "metadata": {},
     "output_type": "display_data"
    }
   ],
   "source": [
    "plot_hist_diff(hdata, hdata_drop, hcols_with_na_temp)"
   ]
  },
  {
   "cell_type": "code",
   "execution_count": 16,
   "id": "d2b2e42e",
   "metadata": {},
   "outputs": [
    {
     "name": "stdout",
     "output_type": "stream",
     "text": [
      "Исходный массив:\n",
      "[[nan  1.  3.]\n",
      " [ 4.  0. nan]\n",
      " [ 8.  1.  0.]]\n",
      "Маска пропущенных значений:\n",
      "[[ True False]\n",
      " [False  True]\n",
      " [False False]]\n"
     ]
    }
   ],
   "source": [
    "# Пример работы MissingIndicator\n",
    "temp_x1 = np.array([[np.nan, 1, 3], [4, 0, np.nan], [8, 1, 0]])\n",
    "print('Исходный массив:')\n",
    "print(temp_x1)\n",
    "indicator = MissingIndicator()\n",
    "temp_x1_transformed = indicator.fit_transform(temp_x1)\n",
    "print('Маска пропущенных значений:')\n",
    "print(temp_x1_transformed)"
   ]
  },
  {
   "cell_type": "code",
   "execution_count": 17,
   "id": "f5387308",
   "metadata": {},
   "outputs": [],
   "source": [
    "def impute_column(dataset, column, strategy_param, fill_value_param=None):\n",
    "    \"\"\"\n",
    "    Заполнение пропусков в одном признаке\n",
    "    \"\"\"\n",
    "    temp_data = dataset[[column]].values\n",
    "    size = temp_data.shape[0]\n",
    "    \n",
    "    indicator = MissingIndicator()\n",
    "    mask_missing_values_only = indicator.fit_transform(temp_data)\n",
    "    \n",
    "    imputer = SimpleImputer(strategy=strategy_param, \n",
    "                            fill_value=fill_value_param)\n",
    "    all_data = imputer.fit_transform(temp_data)\n",
    "    \n",
    "    missed_data = temp_data[mask_missing_values_only]\n",
    "    filled_data = all_data[mask_missing_values_only]\n",
    "    \n",
    "    return all_data.reshape((size,)), filled_data, missed_data"
   ]
  },
  {
   "cell_type": "code",
   "execution_count": 29,
   "id": "220c5c68",
   "metadata": {},
   "outputs": [
    {
     "data": {
      "text/plain": [
       "array([150., 187., 172., 178., 163., 148., 153., 173., 162., 174., 160.,\n",
       "       139., 171., 144., 162., 158., 172., 114., 171., 151., 161., 179.,\n",
       "       178., 137., 178., 162., 157., 123., 157., 152., 168., 140., 188.,\n",
       "       152., 125., 160., 170., 165., 148., 151., 142., 180., 148., 143.,\n",
       "       182., 172., 180., 156., 115., 160., 149., 151., 146., 175., 172.,\n",
       "       158., 186., 185., 174., 159., 130., 156., 190., 132., 165., 182.,\n",
       "       143., 175., 170., 163., 147., 154., 202., 186., 165., 161., 166.,\n",
       "       164., 184., 154., 179., 170., 160., 178., 122., 160., 151., 156.,\n",
       "       158., 122., 175., 168., 169., 159., 138., 111., 157., 147., 162.,\n",
       "       173., 178., 145., 179., 194., 163., 115., 131., 152., 162., 159.,\n",
       "       154., 173., 133., 161., 155., 170., 168., 162., 172., 152., 122.,\n",
       "       182., 172., 167., 179., 192., 143., 172., 169., 121., 163., 162.,\n",
       "       162., 153., 163., 163.,  96., 140., 126., 105., 157., 181., 173.,\n",
       "       142., 116., 143., 149., 171., 169., 150., 138., 125., 155., 152.,\n",
       "       152., 131., 179., 174., 144., 163., 169., 166., 182., 173., 173.,\n",
       "       108., 129., 160., 147., 155., 142., 168., 160., 173., 132., 114.,\n",
       "       160., 158., 120., 112., 132., 114., 169., 165., 128., 153., 144.,\n",
       "       109., 163., 158., 142., 131., 113., 142., 155., 140., 147., 163.,\n",
       "        99., 158., 177., 141., 111., 150., 145., 161., 142., 157., 139.,\n",
       "       162., 150., 140., 140., 146., 144., 136.,  97., 132., 127., 150.,\n",
       "       154., 111., 174., 133., 126., 125., 103., 130., 159., 131., 152.,\n",
       "       124., 145.,  96., 109., 173., 171., 170., 162., 156., 112., 143.,\n",
       "       132.,  88., 105., 166., 150., 120., 195., 146., 122., 143., 106.,\n",
       "       125., 125., 147., 130., 126., 154., 182., 165., 160.,  95., 169.,\n",
       "       108., 132., 117., 126., 116., 103., 144., 145.,  71., 156., 118.,\n",
       "       168., 105., 141., 152., 125., 125., 156., 134., 181., 138., 120.,\n",
       "       162., 164., 143., 130., 161., 140., 146., 150., 144., 144., 136.,\n",
       "        90., 123., 132., 141., 115., 174.])"
      ]
     },
     "execution_count": 29,
     "metadata": {},
     "output_type": "execute_result"
    }
   ],
   "source": [
    "all_data, filled_data, missed_data = impute_column(hdata, 'thalach', 'mean')\n",
    "all_data"
   ]
  },
  {
   "cell_type": "code",
   "execution_count": 30,
   "id": "aed1d75c",
   "metadata": {},
   "outputs": [
    {
     "data": {
      "text/plain": [
       "array([], dtype=float64)"
      ]
     },
     "execution_count": 30,
     "metadata": {},
     "output_type": "execute_result"
    }
   ],
   "source": [
    "filled_data"
   ]
  },
  {
   "cell_type": "code",
   "execution_count": 31,
   "id": "5d6f9b9a",
   "metadata": {},
   "outputs": [
    {
     "data": {
      "text/plain": [
       "array([], dtype=float64)"
      ]
     },
     "execution_count": 31,
     "metadata": {},
     "output_type": "execute_result"
    }
   ],
   "source": [
    "missed_data"
   ]
  },
  {
   "cell_type": "code",
   "execution_count": 32,
   "id": "b9c1b9ae",
   "metadata": {},
   "outputs": [],
   "source": [
    "def research_impute_numeric_column(dataset, num_column, const_value=None):\n",
    "    strategy_params = ['mean', 'median', 'most_frequent', 'constant']\n",
    "    strategy_params_names = ['Среднее', 'Медиана', 'Мода']\n",
    "    strategy_params_names.append('Константа = ' + str(const_value))\n",
    "    \n",
    "    original_temp_data = dataset[[num_column]].values\n",
    "    size = original_temp_data.shape[0]\n",
    "    original_data = original_temp_data.reshape((size,))\n",
    "    \n",
    "    new_df = pd.DataFrame({'Исходные данные':original_data})\n",
    "       \n",
    "    for i in range(len(strategy_params)):\n",
    "        strategy = strategy_params[i]\n",
    "        col_name = strategy_params_names[i]\n",
    "        if (strategy!='constant') or (strategy == 'constant' and const_value!=None):\n",
    "            if strategy == 'constant':\n",
    "                temp_data, _, _ = impute_column(dataset, num_column, strategy, fill_value_param=const_value)\n",
    "            else:\n",
    "                temp_data, _, _ = impute_column(dataset, num_column, strategy)\n",
    "            new_df[col_name] = temp_data\n",
    "        \n",
    "    sns.kdeplot(data=new_df)"
   ]
  },
  {
   "cell_type": "code",
   "execution_count": 33,
   "id": "370551ed",
   "metadata": {},
   "outputs": [
    {
     "data": {
      "image/png": "[encoded data removed]",
      "text/plain": [
       "<Figure size 432x288 with 1 Axes>"
      ]
     },
     "metadata": {},
     "output_type": "display_data"
    }
   ],
   "source": [
    "research_impute_numeric_column(hdata, 'slope',2.0)"
   ]
  },
  {
   "cell_type": "code",
   "execution_count": 35,
   "id": "3414e3d3",
   "metadata": {},
   "outputs": [
    {
     "data": {
      "image/png": "[encoded data removed]",
      "text/plain": [
       "<Figure size 432x288 with 1 Axes>"
      ]
     },
     "metadata": {},
     "output_type": "display_data"
    }
   ],
   "source": [
    "research_impute_numeric_column(hdata, 'restecg',2.0)"
   ]
  },
  {
   "cell_type": "code",
   "execution_count": 36,
   "id": "fccd8b65",
   "metadata": {},
   "outputs": [
    {
     "data": {
      "text/plain": [
       "3.248018370031289"
      ]
     },
     "execution_count": 36,
     "metadata": {},
     "output_type": "execute_result"
    }
   ],
   "source": [
    "# Похоже на нормальное\n",
    "slope_ev = hdata['slope'].mean() + 3*hdata['slope'].std()\n",
    "slope_ev"
   ]
  },
  {
   "cell_type": "code",
   "execution_count": 38,
   "id": "0723d523",
   "metadata": {},
   "outputs": [
    {
     "data": {
      "image/png": "[encoded data removed]",
      "text/plain": [
       "<Figure size 432x288 with 1 Axes>"
      ]
     },
     "metadata": {},
     "output_type": "display_data"
    }
   ],
   "source": [
    "research_impute_numeric_column(hdata, 'slope', slope_ev)"
   ]
  },
  {
   "cell_type": "code",
   "execution_count": 40,
   "id": "57ac9a7e",
   "metadata": {},
   "outputs": [
    {
     "name": "stdout",
     "output_type": "stream",
     "text": [
      "IQR=20.0, extreme_value=200.0\n"
     ]
    }
   ],
   "source": [
    "# Ассиметричное\n",
    "IQR = hdata['trestbps'].quantile(0.75) - hdata['trestbps'].quantile(0.25)\n",
    "MaxTres_ev1 = hdata['trestbps'].quantile(0.75) + 3*IQR\n",
    "print('IQR={}, extreme_value={}'.format(IQR, MaxTres_ev1))"
   ]
  },
  {
   "cell_type": "code",
   "execution_count": 42,
   "id": "ee7367b5",
   "metadata": {},
   "outputs": [
    {
     "data": {
      "image/png": "[encoded data removed]",
      "text/plain": [
       "<Figure size 432x288 with 1 Axes>"
      ]
     },
     "metadata": {},
     "output_type": "display_data"
    }
   ],
   "source": [
    "research_impute_numeric_column(hdata, 'trestbps', MaxTres_ev1)"
   ]
  },
  {
   "cell_type": "code",
   "execution_count": 45,
   "id": "c3e66f44",
   "metadata": {},
   "outputs": [],
   "source": [
    "IQR_lf = hdata['thalach'].quantile(0.75) - hdata['thalach'].quantile(0.25)\n",
    "thalach_ev1 = hdata['thalach'].quantile(0.75) + 1.5*IQR_lf\n",
    "thalach_ev2 = hdata['thalach'].quantile(0.75) + 3*IQR_lf"
   ]
  },
  {
   "cell_type": "code",
   "execution_count": 47,
   "id": "fdd62eaf",
   "metadata": {},
   "outputs": [
    {
     "data": {
      "image/png": "[encoded data removed]",
      "text/plain": [
       "<Figure size 432x288 with 1 Axes>"
      ]
     },
     "metadata": {},
     "output_type": "display_data"
    }
   ],
   "source": [
    "research_impute_numeric_column(hdata, 'thalach', thalach_ev1)"
   ]
  },
  {
   "cell_type": "code",
   "execution_count": 48,
   "id": "17eb300f",
   "metadata": {},
   "outputs": [
    {
     "data": {
      "image/png": "[encoded data removed]",
      "text/plain": [
       "<Figure size 432x288 with 1 Axes>"
      ]
     },
     "metadata": {},
     "output_type": "display_data"
    }
   ],
   "source": [
    "research_impute_numeric_column(hdata, 'thalach', thalach_ev2)"
   ]
  },
  {
   "cell_type": "code",
   "execution_count": 51,
   "id": "453442a0",
   "metadata": {},
   "outputs": [],
   "source": [
    "# 'Unmarried',\n",
    "hdata_cat_cols = ['thal', 'restecg']\n",
    "hdata_cat_new = hdata[hdata_cat_cols].copy() "
   ]
  },
  {
   "cell_type": "code",
   "execution_count": 52,
   "id": "0bcc8657",
   "metadata": {},
   "outputs": [],
   "source": [
    "PoolQC_cat_new_temp, _, _ = impute_column(hdata_cat_new, 'thal', 'most_frequent')\n",
    "Fence_cat_new_temp, _, _ = impute_column(hdata_cat_new, 'restecg', 'most_frequent')"
   ]
  },
  {
   "cell_type": "code",
   "execution_count": 53,
   "id": "b8f6c9d7",
   "metadata": {},
   "outputs": [],
   "source": [
    "hdata_cat_new['thal'] = PoolQC_cat_new_temp\n",
    "hdata_cat_new['restecg'] = Fence_cat_new_temp"
   ]
  },
  {
   "cell_type": "code",
   "execution_count": 54,
   "id": "80c721d6",
   "metadata": {},
   "outputs": [
    {
     "data": {
      "image/png": "[encoded data removed]",
      "text/plain": [
       "<Figure size 1080x576 with 1 Axes>"
      ]
     },
     "metadata": {},
     "output_type": "display_data"
    },
    {
     "data": {
      "image/png": "[encoded data removed]",
      "text/plain": [
       "<Figure size 1080x576 with 1 Axes>"
      ]
     },
     "metadata": {},
     "output_type": "display_data"
    }
   ],
   "source": [
    "plot_hist_diff(hdata, hdata_cat_new, hdata_cat_cols)"
   ]
  },
  {
   "cell_type": "code",
   "execution_count": 55,
   "id": "59dbe588",
   "metadata": {},
   "outputs": [
    {
     "data": {
      "text/html": [
       "<div>\n",
       "<style scoped>\n",
       "    .dataframe tbody tr th:only-of-type {\n",
       "        vertical-align: middle;\n",
       "    }\n",
       "\n",
       "    .dataframe tbody tr th {\n",
       "        vertical-align: top;\n",
       "    }\n",
       "\n",
       "    .dataframe thead th {\n",
       "        text-align: right;\n",
       "    }\n",
       "</style>\n",
       "<table border=\"1\" class=\"dataframe\">\n",
       "  <thead>\n",
       "    <tr style=\"text-align: right;\">\n",
       "      <th></th>\n",
       "      <th>thal</th>\n",
       "      <th>restecg</th>\n",
       "    </tr>\n",
       "  </thead>\n",
       "  <tbody>\n",
       "    <tr>\n",
       "      <th>0</th>\n",
       "      <td>True</td>\n",
       "      <td>False</td>\n",
       "    </tr>\n",
       "    <tr>\n",
       "      <th>1</th>\n",
       "      <td>2.0</td>\n",
       "      <td>True</td>\n",
       "    </tr>\n",
       "    <tr>\n",
       "      <th>2</th>\n",
       "      <td>2.0</td>\n",
       "      <td>False</td>\n",
       "    </tr>\n",
       "    <tr>\n",
       "      <th>3</th>\n",
       "      <td>2.0</td>\n",
       "      <td>True</td>\n",
       "    </tr>\n",
       "    <tr>\n",
       "      <th>4</th>\n",
       "      <td>2.0</td>\n",
       "      <td>True</td>\n",
       "    </tr>\n",
       "  </tbody>\n",
       "</table>\n",
       "</div>"
      ],
      "text/plain": [
       "   thal restecg\n",
       "0  True   False\n",
       "1   2.0    True\n",
       "2   2.0   False\n",
       "3   2.0    True\n",
       "4   2.0    True"
      ]
     },
     "execution_count": 55,
     "metadata": {},
     "output_type": "execute_result"
    }
   ],
   "source": [
    "hdata_cat_cols = ['thal', 'restecg']\n",
    "hdata_cat_na = hdata[hdata_cat_cols].copy().astype('object')\n",
    "hdata_cat_na = hdata_cat_na.replace({np.nan:'NA',0:'False',1:'True'})\n",
    "hdata_cat_na.head()"
   ]
  },
  {
   "cell_type": "code",
   "execution_count": 56,
   "id": "e2575c76",
   "metadata": {},
   "outputs": [],
   "source": [
    "# 'Waist', 'Unmarried', 'PoorVision'\n",
    "PoolQC_cat_na_temp, _, _ = impute_column(hdata_cat_na, 'thal', 'constant', fill_value_param='NA')\n",
    "Fence_cat_na_temp, _, _ = impute_column(hdata_cat_na, 'restecg', 'constant', fill_value_param='NA')"
   ]
  },
  {
   "cell_type": "code",
   "execution_count": 57,
   "id": "195ea82d",
   "metadata": {},
   "outputs": [],
   "source": [
    "hdata_cat_na['thal'] = PoolQC_cat_na_temp\n",
    "hdata_cat_na['restecg'] = Fence_cat_na_temp"
   ]
  },
  {
   "cell_type": "code",
   "execution_count": 60,
   "id": "50b846a8",
   "metadata": {},
   "outputs": [
    {
     "data": {
      "image/png": "[encoded data removed]",
      "text/plain": [
       "<Figure size 1080x576 with 1 Axes>"
      ]
     },
     "metadata": {},
     "output_type": "display_data"
    },
    {
     "data": {
      "image/png": "[encoded data removed]",
      "text/plain": [
       "<Figure size 1080x576 with 1 Axes>"
      ]
     },
     "metadata": {},
     "output_type": "display_data"
    }
   ],
   "source": [
    "plot_hist_diff(hdata, hdata_cat_new, hdata_cat_cols)"
   ]
  },
  {
   "cell_type": "code",
   "execution_count": 62,
   "id": "3ccf494e",
   "metadata": {},
   "outputs": [
    {
     "data": {
      "text/html": [
       "<div>\n",
       "<style scoped>\n",
       "    .dataframe tbody tr th:only-of-type {\n",
       "        vertical-align: middle;\n",
       "    }\n",
       "\n",
       "    .dataframe tbody tr th {\n",
       "        vertical-align: top;\n",
       "    }\n",
       "\n",
       "    .dataframe thead th {\n",
       "        text-align: right;\n",
       "    }\n",
       "</style>\n",
       "<table border=\"1\" class=\"dataframe\">\n",
       "  <thead>\n",
       "    <tr style=\"text-align: right;\">\n",
       "      <th></th>\n",
       "      <th>chol</th>\n",
       "    </tr>\n",
       "  </thead>\n",
       "  <tbody>\n",
       "    <tr>\n",
       "      <th>0</th>\n",
       "      <td>233.0</td>\n",
       "    </tr>\n",
       "    <tr>\n",
       "      <th>1</th>\n",
       "      <td>250.0</td>\n",
       "    </tr>\n",
       "    <tr>\n",
       "      <th>2</th>\n",
       "      <td>204.0</td>\n",
       "    </tr>\n",
       "    <tr>\n",
       "      <th>3</th>\n",
       "      <td>236.0</td>\n",
       "    </tr>\n",
       "    <tr>\n",
       "      <th>4</th>\n",
       "      <td>354.0</td>\n",
       "    </tr>\n",
       "    <tr>\n",
       "      <th>5</th>\n",
       "      <td>192.0</td>\n",
       "    </tr>\n",
       "    <tr>\n",
       "      <th>6</th>\n",
       "      <td>294.0</td>\n",
       "    </tr>\n",
       "    <tr>\n",
       "      <th>7</th>\n",
       "      <td>263.0</td>\n",
       "    </tr>\n",
       "    <tr>\n",
       "      <th>8</th>\n",
       "      <td>199.0</td>\n",
       "    </tr>\n",
       "    <tr>\n",
       "      <th>9</th>\n",
       "      <td>168.0</td>\n",
       "    </tr>\n",
       "  </tbody>\n",
       "</table>\n",
       "</div>"
      ],
      "text/plain": [
       "    chol\n",
       "0  233.0\n",
       "1  250.0\n",
       "2  204.0\n",
       "3  236.0\n",
       "4  354.0\n",
       "5  192.0\n",
       "6  294.0\n",
       "7  263.0\n",
       "8  199.0\n",
       "9  168.0"
      ]
     },
     "execution_count": 62,
     "metadata": {},
     "output_type": "execute_result"
    }
   ],
   "source": [
    "hdata_mis = hdata[['chol']].copy()\n",
    "hdata_mis.head(10)"
   ]
  },
  {
   "cell_type": "code",
   "execution_count": 63,
   "id": "84a04abe",
   "metadata": {},
   "outputs": [
    {
     "data": {
      "text/plain": [
       "array([], shape=(303, 0), dtype=bool)"
      ]
     },
     "execution_count": 63,
     "metadata": {},
     "output_type": "execute_result"
    }
   ],
   "source": [
    "indicator = MissingIndicator()\n",
    "PoolQC_missing = indicator.fit_transform(hdata_mis[['chol']])\n",
    "PoolQC_missing"
   ]
  },
  {
   "cell_type": "code",
   "execution_count": 64,
   "id": "7acaf558",
   "metadata": {},
   "outputs": [
    {
     "name": "stderr",
     "output_type": "stream",
     "text": [
      "C:\\Users\\twai1\\AppData\\Local\\Temp\\ipykernel_5384\\1375431849.py:1: DeprecationWarning: The truth value of an empty array is ambiguous. Returning False, but in future this will result in an error. Use `array.size > 0` to check that an array is not empty.\n",
      "  PoolQC_missing_int = [1 if i==True else 0 for i in PoolQC_missing]\n"
     ]
    },
    {
     "data": {
      "text/plain": [
       "[0, 0, 0, 0, 0, 0, 0, 0, 0, 0]"
      ]
     },
     "execution_count": 64,
     "metadata": {},
     "output_type": "execute_result"
    }
   ],
   "source": [
    "PoolQC_missing_int = [1 if i==True else 0 for i in PoolQC_missing]\n",
    "PoolQC_missing_int[:10]"
   ]
  },
  {
   "cell_type": "code",
   "execution_count": 65,
   "id": "214d3824",
   "metadata": {},
   "outputs": [
    {
     "data": {
      "text/html": [
       "<div>\n",
       "<style scoped>\n",
       "    .dataframe tbody tr th:only-of-type {\n",
       "        vertical-align: middle;\n",
       "    }\n",
       "\n",
       "    .dataframe tbody tr th {\n",
       "        vertical-align: top;\n",
       "    }\n",
       "\n",
       "    .dataframe thead th {\n",
       "        text-align: right;\n",
       "    }\n",
       "</style>\n",
       "<table border=\"1\" class=\"dataframe\">\n",
       "  <thead>\n",
       "    <tr style=\"text-align: right;\">\n",
       "      <th></th>\n",
       "      <th>chol</th>\n",
       "      <th>chol_missing</th>\n",
       "    </tr>\n",
       "  </thead>\n",
       "  <tbody>\n",
       "    <tr>\n",
       "      <th>0</th>\n",
       "      <td>233.0</td>\n",
       "      <td>0</td>\n",
       "    </tr>\n",
       "    <tr>\n",
       "      <th>1</th>\n",
       "      <td>250.0</td>\n",
       "      <td>0</td>\n",
       "    </tr>\n",
       "    <tr>\n",
       "      <th>2</th>\n",
       "      <td>204.0</td>\n",
       "      <td>0</td>\n",
       "    </tr>\n",
       "    <tr>\n",
       "      <th>3</th>\n",
       "      <td>236.0</td>\n",
       "      <td>0</td>\n",
       "    </tr>\n",
       "    <tr>\n",
       "      <th>4</th>\n",
       "      <td>354.0</td>\n",
       "      <td>0</td>\n",
       "    </tr>\n",
       "  </tbody>\n",
       "</table>\n",
       "</div>"
      ],
      "text/plain": [
       "    chol  chol_missing\n",
       "0  233.0             0\n",
       "1  250.0             0\n",
       "2  204.0             0\n",
       "3  236.0             0\n",
       "4  354.0             0"
      ]
     },
     "execution_count": 65,
     "metadata": {},
     "output_type": "execute_result"
    }
   ],
   "source": [
    "hdata_mis['chol_missing'] = PoolQC_missing_int\n",
    "hdata_mis.head()"
   ]
  },
  {
   "cell_type": "code",
   "execution_count": 77,
   "id": "ebcb3f06",
   "metadata": {},
   "outputs": [],
   "source": [
    "pipe = Pipeline(steps=[\n",
    "    ('imputer', KNNImputer(\n",
    "        n_neighbors=5,\n",
    "        weights='distance',\n",
    "        add_indicator=False)),\n",
    "    ('scaler', StandardScaler()),\n",
    "    ('regressor', Lasso(max_iter=2000)),\n",
    "])"
   ]
  },
  {
   "cell_type": "code",
   "execution_count": 74,
   "id": "00ef1bdc",
   "metadata": {},
   "outputs": [],
   "source": [
    "param_grid = {\n",
    "    'imputer__n_neighbors': [4,5,6],\n",
    "    'imputer__weights': ['uniform', 'distance'],\n",
    "    'imputer__add_indicator': [True, False],\n",
    "    'regressor__alpha': [10, 100, 200],\n",
    "}"
   ]
  },
  {
   "cell_type": "code",
   "execution_count": 75,
   "id": "c6a07df6",
   "metadata": {},
   "outputs": [],
   "source": [
    "grid_search = GridSearchCV(pipe, param_grid, cv=5, n_jobs=-1, scoring='r2')"
   ]
  },
  {
   "cell_type": "code",
   "execution_count": 79,
   "id": "9ad68ead",
   "metadata": {},
   "outputs": [
    {
     "ename": "AttributeError",
     "evalue": "'GridSearchCV' object has no attribute 'best_params_'",
     "output_type": "error",
     "traceback": [
      "\u001b[1;31m---------------------------------------------------------------------------\u001b[0m",
      "\u001b[1;31mAttributeError\u001b[0m                            Traceback (most recent call last)",
      "Input \u001b[1;32mIn [79]\u001b[0m, in \u001b[0;36m<cell line: 1>\u001b[1;34m()\u001b[0m\n\u001b[1;32m----> 1\u001b[0m \u001b[43mgrid_search\u001b[49m\u001b[38;5;241;43m.\u001b[39;49m\u001b[43mbest_params_\u001b[49m\n",
      "\u001b[1;31mAttributeError\u001b[0m: 'GridSearchCV' object has no attribute 'best_params_'"
     ]
    }
   ],
   "source": [
    "grid_search.fit(knnimpute_hdata, knn_hdata['Source of Care'])"
   ]
  },
  {
   "cell_type": "code",
   "execution_count": null,
   "id": "8e0011f7",
   "metadata": {},
   "outputs": [],
   "source": []
  }
 ],
 "metadata": {
  "kernelspec": {
   "display_name": "Python 3 (ipykernel)",
   "language": "python",
   "name": "python3"
  },
  "language_info": {
   "codemirror_mode": {
    "name": "ipython",
    "version": 3
   },
   "file_extension": ".py",
   "mimetype": "text/x-python",
   "name": "python",
   "nbconvert_exporter": "python",
   "pygments_lexer": "ipython3",
   "version": "3.9.12"
  }
 },
 "nbformat": 4,
 "nbformat_minor": 5
}
