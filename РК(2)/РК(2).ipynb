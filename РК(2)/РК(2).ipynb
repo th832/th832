{
 "cells": [
  {
   "cell_type": "code",
   "execution_count": 14,
   "id": "03bdd4f1",
   "metadata": {},
   "outputs": [],
   "source": [
    "import numpy as np\n",
    "import pandas as pd\n",
    "from sklearn.feature_extraction.text import CountVectorizer, TfidfVectorizer\n",
    "from sklearn.model_selection import train_test_split\n",
    "from sklearn.metrics import classification_report\n",
    "from sklearn.neighbors import KNeighborsClassifier\n",
    "from sklearn.naive_bayes import ComplementNB\n",
    "\n",
    "import warnings\n",
    "warnings.filterwarnings('ignore')"
   ]
  },
  {
   "cell_type": "code",
   "execution_count": 15,
   "id": "2b18eca9",
   "metadata": {},
   "outputs": [],
   "source": [
    "df = pd.read_csv('CaloriesIntensityUpload2.csv')"
   ]
  },
  {
   "cell_type": "code",
   "execution_count": 16,
   "id": "332891b8",
   "metadata": {},
   "outputs": [
    {
     "data": {
      "text/html": [
       "<div>\n",
       "<style scoped>\n",
       "    .dataframe tbody tr th:only-of-type {\n",
       "        vertical-align: middle;\n",
       "    }\n",
       "\n",
       "    .dataframe tbody tr th {\n",
       "        vertical-align: top;\n",
       "    }\n",
       "\n",
       "    .dataframe thead th {\n",
       "        text-align: right;\n",
       "    }\n",
       "</style>\n",
       "<table border=\"1\" class=\"dataframe\">\n",
       "  <thead>\n",
       "    <tr style=\"text-align: right;\">\n",
       "      <th></th>\n",
       "      <th>Id</th>\n",
       "      <th>Time</th>\n",
       "      <th>Intensity</th>\n",
       "      <th>Calories</th>\n",
       "      <th>DateHour</th>\n",
       "      <th>Date</th>\n",
       "      <th>TimeofDay</th>\n",
       "    </tr>\n",
       "  </thead>\n",
       "  <tbody>\n",
       "    <tr>\n",
       "      <th>0</th>\n",
       "      <td>1503960366</td>\n",
       "      <td>0:00:00</td>\n",
       "      <td>10</td>\n",
       "      <td>66</td>\n",
       "      <td>2016-04-24T00:00:00Z</td>\n",
       "      <td>4/24/2016</td>\n",
       "      <td>Night</td>\n",
       "    </tr>\n",
       "    <tr>\n",
       "      <th>1</th>\n",
       "      <td>1503960366</td>\n",
       "      <td>0:00:00</td>\n",
       "      <td>1</td>\n",
       "      <td>51</td>\n",
       "      <td>2016-04-30T00:00:00Z</td>\n",
       "      <td>4/30/2016</td>\n",
       "      <td>Night</td>\n",
       "    </tr>\n",
       "    <tr>\n",
       "      <th>2</th>\n",
       "      <td>1624580081</td>\n",
       "      <td>0:00:00</td>\n",
       "      <td>1</td>\n",
       "      <td>51</td>\n",
       "      <td>2016-04-14T00:00:00Z</td>\n",
       "      <td>4/14/2016</td>\n",
       "      <td>Night</td>\n",
       "    </tr>\n",
       "    <tr>\n",
       "      <th>3</th>\n",
       "      <td>1624580081</td>\n",
       "      <td>0:00:00</td>\n",
       "      <td>1</td>\n",
       "      <td>51</td>\n",
       "      <td>2016-04-21T00:00:00Z</td>\n",
       "      <td>4/21/2016</td>\n",
       "      <td>Night</td>\n",
       "    </tr>\n",
       "    <tr>\n",
       "      <th>4</th>\n",
       "      <td>1624580081</td>\n",
       "      <td>0:00:00</td>\n",
       "      <td>1</td>\n",
       "      <td>51</td>\n",
       "      <td>2016-04-22T00:00:00Z</td>\n",
       "      <td>4/22/2016</td>\n",
       "      <td>Night</td>\n",
       "    </tr>\n",
       "    <tr>\n",
       "      <th>...</th>\n",
       "      <td>...</td>\n",
       "      <td>...</td>\n",
       "      <td>...</td>\n",
       "      <td>...</td>\n",
       "      <td>...</td>\n",
       "      <td>...</td>\n",
       "      <td>...</td>\n",
       "    </tr>\n",
       "    <tr>\n",
       "      <th>22094</th>\n",
       "      <td>5553957443</td>\n",
       "      <td>22:00:00</td>\n",
       "      <td>25</td>\n",
       "      <td>114</td>\n",
       "      <td>2016-05-10T22:00:00Z</td>\n",
       "      <td>5/10/2016</td>\n",
       "      <td>Evening</td>\n",
       "    </tr>\n",
       "    <tr>\n",
       "      <th>22095</th>\n",
       "      <td>7086361926</td>\n",
       "      <td>22:00:00</td>\n",
       "      <td>20</td>\n",
       "      <td>114</td>\n",
       "      <td>2016-04-30T22:00:00Z</td>\n",
       "      <td>4/30/2016</td>\n",
       "      <td>Evening</td>\n",
       "    </tr>\n",
       "    <tr>\n",
       "      <th>22096</th>\n",
       "      <td>1644430081</td>\n",
       "      <td>23:00:00</td>\n",
       "      <td>8</td>\n",
       "      <td>114</td>\n",
       "      <td>2016-04-16T23:00:00Z</td>\n",
       "      <td>4/16/2016</td>\n",
       "      <td>Night</td>\n",
       "    </tr>\n",
       "    <tr>\n",
       "      <th>22097</th>\n",
       "      <td>4445114986</td>\n",
       "      <td>23:00:00</td>\n",
       "      <td>22</td>\n",
       "      <td>114</td>\n",
       "      <td>2016-04-28T23:00:00Z</td>\n",
       "      <td>4/28/2016</td>\n",
       "      <td>Night</td>\n",
       "    </tr>\n",
       "    <tr>\n",
       "      <th>22098</th>\n",
       "      <td>8583815059</td>\n",
       "      <td>23:00:00</td>\n",
       "      <td>9</td>\n",
       "      <td>114</td>\n",
       "      <td>2016-04-12T23:00:00Z</td>\n",
       "      <td>4/12/2016</td>\n",
       "      <td>Night</td>\n",
       "    </tr>\n",
       "  </tbody>\n",
       "</table>\n",
       "<p>22099 rows × 7 columns</p>\n",
       "</div>"
      ],
      "text/plain": [
       "               Id      Time  Intensity  Calories              DateHour  \\\n",
       "0      1503960366   0:00:00         10        66  2016-04-24T00:00:00Z   \n",
       "1      1503960366   0:00:00          1        51  2016-04-30T00:00:00Z   \n",
       "2      1624580081   0:00:00          1        51  2016-04-14T00:00:00Z   \n",
       "3      1624580081   0:00:00          1        51  2016-04-21T00:00:00Z   \n",
       "4      1624580081   0:00:00          1        51  2016-04-22T00:00:00Z   \n",
       "...           ...       ...        ...       ...                   ...   \n",
       "22094  5553957443  22:00:00         25       114  2016-05-10T22:00:00Z   \n",
       "22095  7086361926  22:00:00         20       114  2016-04-30T22:00:00Z   \n",
       "22096  1644430081  23:00:00          8       114  2016-04-16T23:00:00Z   \n",
       "22097  4445114986  23:00:00         22       114  2016-04-28T23:00:00Z   \n",
       "22098  8583815059  23:00:00          9       114  2016-04-12T23:00:00Z   \n",
       "\n",
       "            Date TimeofDay  \n",
       "0      4/24/2016     Night  \n",
       "1      4/30/2016     Night  \n",
       "2      4/14/2016     Night  \n",
       "3      4/21/2016     Night  \n",
       "4      4/22/2016     Night  \n",
       "...          ...       ...  \n",
       "22094  5/10/2016   Evening  \n",
       "22095  4/30/2016   Evening  \n",
       "22096  4/16/2016     Night  \n",
       "22097  4/28/2016     Night  \n",
       "22098  4/12/2016     Night  \n",
       "\n",
       "[22099 rows x 7 columns]"
      ]
     },
     "execution_count": 16,
     "metadata": {},
     "output_type": "execute_result"
    }
   ],
   "source": [
    "df"
   ]
  },
  {
   "cell_type": "code",
   "execution_count": 17,
   "id": "e1ad2c59",
   "metadata": {},
   "outputs": [
    {
     "data": {
      "text/plain": [
       "86     1068\n",
       "56     1060\n",
       "84      888\n",
       "62      711\n",
       "83      697\n",
       "       ... \n",
       "506       1\n",
       "364       1\n",
       "394       1\n",
       "741       1\n",
       "512       1\n",
       "Name: Calories, Length: 442, dtype: int64"
      ]
     },
     "execution_count": 17,
     "metadata": {},
     "output_type": "execute_result"
    }
   ],
   "source": [
    "df.Calories.value_counts()"
   ]
  },
  {
   "cell_type": "code",
   "execution_count": 18,
   "id": "1bc88f29",
   "metadata": {},
   "outputs": [
    {
     "data": {
      "text/plain": [
       "<22099x4 sparse matrix of type '<class 'numpy.float64'>'\n",
       "\twith 22099 stored elements in Compressed Sparse Row format>"
      ]
     },
     "execution_count": 18,
     "metadata": {},
     "output_type": "execute_result"
    }
   ],
   "source": [
    "tfidfv = TfidfVectorizer()\n",
    "tfidf_ngram_features = tfidfv.fit_transform(df['TimeofDay'])\n",
    "tfidf_ngram_features"
   ]
  },
  {
   "cell_type": "code",
   "execution_count": 19,
   "id": "bd992d0a",
   "metadata": {},
   "outputs": [
    {
     "data": {
      "text/plain": [
       "<22099x4 sparse matrix of type '<class 'numpy.int64'>'\n",
       "\twith 22099 stored elements in Compressed Sparse Row format>"
      ]
     },
     "execution_count": 19,
     "metadata": {},
     "output_type": "execute_result"
    }
   ],
   "source": [
    "countvec = CountVectorizer()\n",
    "countvec_ngram_features = countvec.fit_transform(df['TimeofDay'])\n",
    "countvec_ngram_features"
   ]
  },
  {
   "cell_type": "code",
   "execution_count": 20,
   "id": "ad4b52de",
   "metadata": {},
   "outputs": [
    {
     "name": "stdout",
     "output_type": "stream",
     "text": [
      "              precision    recall  f1-score   support\n",
      "\n",
      "       Night     1.0000    1.0000    1.0000      1569\n",
      "     Evening     1.0000    1.0000    1.0000      1648\n",
      "   Afternoon     1.0000    1.0000    1.0000      1681\n",
      "     Morning     1.0000    1.0000    1.0000      1732\n",
      "\n",
      "    accuracy                         1.0000      6630\n",
      "   macro avg     1.0000    1.0000    1.0000      6630\n",
      "weighted avg     1.0000    1.0000    1.0000      6630\n",
      "\n"
     ]
    }
   ],
   "source": [
    "# TFIDF + KNC\n",
    "X_train, X_test, y_train, y_test = train_test_split(tfidf_ngram_features, df['TimeofDay'], test_size=0.3, random_state=1)\n",
    "model = KNeighborsClassifier()\n",
    "model.fit(X_train, y_train)\n",
    "y_pred = model.predict(X_test)\n",
    "print(classification_report(y_test, y_pred, digits=4, target_names=list(map(str, list(y_test.unique())))))"
   ]
  },
  {
   "cell_type": "code",
   "execution_count": 21,
   "id": "6aa7d282",
   "metadata": {},
   "outputs": [
    {
     "name": "stdout",
     "output_type": "stream",
     "text": [
      "              precision    recall  f1-score   support\n",
      "\n",
      "       Night     1.0000    1.0000    1.0000      1569\n",
      "     Evening     1.0000    1.0000    1.0000      1648\n",
      "   Afternoon     1.0000    1.0000    1.0000      1681\n",
      "     Morning     1.0000    1.0000    1.0000      1732\n",
      "\n",
      "    accuracy                         1.0000      6630\n",
      "   macro avg     1.0000    1.0000    1.0000      6630\n",
      "weighted avg     1.0000    1.0000    1.0000      6630\n",
      "\n"
     ]
    }
   ],
   "source": [
    "# TFIDF + CNB\n",
    "X_train, X_test, y_train, y_test = train_test_split(tfidf_ngram_features, df['TimeofDay'], test_size=0.3, random_state=1)\n",
    "model = ComplementNB()\n",
    "model.fit(X_train, y_train)\n",
    "y_pred = model.predict(X_test)\n",
    "print(classification_report(y_test, y_pred, digits=4, target_names=list(map(str, list(y_test.unique())))))"
   ]
  },
  {
   "cell_type": "code",
   "execution_count": 22,
   "id": "4abc49f7",
   "metadata": {},
   "outputs": [
    {
     "name": "stdout",
     "output_type": "stream",
     "text": [
      "              precision    recall  f1-score   support\n",
      "\n",
      "       Night     1.0000    1.0000    1.0000      1569\n",
      "     Evening     1.0000    1.0000    1.0000      1648\n",
      "   Afternoon     1.0000    1.0000    1.0000      1681\n",
      "     Morning     1.0000    1.0000    1.0000      1732\n",
      "\n",
      "    accuracy                         1.0000      6630\n",
      "   macro avg     1.0000    1.0000    1.0000      6630\n",
      "weighted avg     1.0000    1.0000    1.0000      6630\n",
      "\n"
     ]
    }
   ],
   "source": [
    "# CountVec + CNB\n",
    "X_train, X_test, y_train, y_test = train_test_split(countvec_ngram_features, df['TimeofDay'], \n",
    "                                                    test_size=0.3, random_state=1)\n",
    "model = ComplementNB()\n",
    "model.fit(X_train, y_train)\n",
    "y_pred = model.predict(X_test)\n",
    "print(classification_report(y_test, y_pred, digits=4, target_names=list(map(str, list(y_test.unique())))))"
   ]
  },
  {
   "cell_type": "code",
   "execution_count": 23,
   "id": "9b7bb489",
   "metadata": {},
   "outputs": [
    {
     "name": "stdout",
     "output_type": "stream",
     "text": [
      "              precision    recall  f1-score   support\n",
      "\n",
      "       Night     1.0000    1.0000    1.0000      1569\n",
      "     Evening     1.0000    1.0000    1.0000      1648\n",
      "   Afternoon     1.0000    1.0000    1.0000      1681\n",
      "     Morning     1.0000    1.0000    1.0000      1732\n",
      "\n",
      "    accuracy                         1.0000      6630\n",
      "   macro avg     1.0000    1.0000    1.0000      6630\n",
      "weighted avg     1.0000    1.0000    1.0000      6630\n",
      "\n"
     ]
    }
   ],
   "source": [
    "# CountVec + CNB\n",
    "X_train, X_test, y_train, y_test = train_test_split(countvec_ngram_features, df['TimeofDay'], \n",
    "                                                    test_size=0.3, random_state=1)\n",
    "model = ComplementNB()\n",
    "model.fit(X_train, y_train)\n",
    "y_pred = model.predict(X_test)\n",
    "print(classification_report(y_test, y_pred, digits=4, target_names=list(map(str, list(y_test.unique())))))"
   ]
  },
  {
   "cell_type": "code",
   "execution_count": null,
   "id": "44ee26a4",
   "metadata": {},
   "outputs": [],
   "source": []
  }
 ],
 "metadata": {
  "kernelspec": {
   "display_name": "Python 3 (ipykernel)",
   "language": "python",
   "name": "python3"
  },
  "language_info": {
   "codemirror_mode": {
    "name": "ipython",
    "version": 3
   },
   "file_extension": ".py",
   "mimetype": "text/x-python",
   "name": "python",
   "nbconvert_exporter": "python",
   "pygments_lexer": "ipython3",
   "version": "3.9.12"
  }
 },
 "nbformat": 4,
 "nbformat_minor": 5
}
