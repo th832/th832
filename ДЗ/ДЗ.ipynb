{
  "cells": [
    {
      "cell_type": "markdown",
      "source": [
        ""
      ],
      "metadata": {
        "id": "4K-8YxintnM4"
      }
    },
    {
      "cell_type": "markdown",
      "source": [
        "Импортируем необходимые модули и библиотеки:"
      ],
      "metadata": {
        "id": "GZ4F9fOnvTlD"
      }
    },
    {
      "cell_type": "code",
      "source": [
        "\n",
        "import tensorflow as tf\n",
        "import tensorflow.keras\n",
        " \n",
        "# библиотека для вывода изображений\n",
        "import matplotlib.pyplot as plt\n",
        "%matplotlib inline\n",
        " \n",
        "# -- Импорт для построения модели: --\n",
        "# импорт слоев\n",
        "from tensorflow.keras import layers\n",
        "from tensorflow.keras.layers import Dense, Flatten\n",
        "# импорт модели\n",
        "from tensorflow.keras.models import Sequential\n",
        "# импорт оптимайзера\n",
        "from tensorflow.keras.optimizers import Adam"
      ],
      "metadata": {
        "id": "Wauq0QkBvDrS"
      },
      "execution_count": 1,
      "outputs": []
    },
    {
      "cell_type": "markdown",
      "source": [
        " импортируем данные MNIST из базы Keras"
      ],
      "metadata": {
        "id": "BOcCOsHvvlBB"
      }
    },
    {
      "cell_type": "code",
      "source": [
        "\n",
        "# Импортируем набор данных MNIST \n",
        "from tensorflow.keras.datasets import mnist"
      ],
      "metadata": {
        "id": "fw33ZDwpvYDd"
      },
      "execution_count": 2,
      "outputs": []
    },
    {
      "cell_type": "code",
      "source": [
        "\t\n",
        "# загружаем тренировочные и тестовые данные\n",
        "(X_train, y_train), (X_test, y_test) = mnist.load_data()"
      ],
      "metadata": {
        "colab": {
          "base_uri": "https://localhost:8080/"
        },
        "id": "Xj5vrvdXvp6o",
        "outputId": "bfc0ce48-317a-4e31-cddb-e9d136cda6de"
      },
      "execution_count": 3,
      "outputs": [
        {
          "output_type": "stream",
          "name": "stdout",
          "text": [
            "Downloading data from https://storage.googleapis.com/tensorflow/tf-keras-datasets/mnist.npz\n",
            "11493376/11490434 [==============================] - 0s 0us/step\n",
            "11501568/11490434 [==============================] - 0s 0us/step\n"
          ]
        }
      ]
    },
    {
      "cell_type": "markdown",
      "source": [
        "Узнаем длины массивов с данными"
      ],
      "metadata": {
        "id": "2IyITqTNx0Xx"
      }
    },
    {
      "cell_type": "code",
      "source": [
        "print(len(X_train), len(y_train), len(X_test), len(y_train))"
      ],
      "metadata": {
        "colab": {
          "base_uri": "https://localhost:8080/"
        },
        "id": "O6LDiUU-vwWx",
        "outputId": "e846a01b-bf0f-4a42-e467-d5b5606ff7e9"
      },
      "execution_count": 4,
      "outputs": [
        {
          "output_type": "stream",
          "name": "stdout",
          "text": [
            "60000 60000 10000 60000\n"
          ]
        }
      ]
    },
    {
      "cell_type": "code",
      "source": [
        "\t\n",
        "# Проверка типа и размера данных\n",
        "print(X_train[0].shape,X_train[0].dtype)"
      ],
      "metadata": {
        "colab": {
          "base_uri": "https://localhost:8080/"
        },
        "id": "uLAhuF-Nv1z4",
        "outputId": "cfb1b180-af2f-4b5a-d00e-e31f7ca32ec9"
      },
      "execution_count": 5,
      "outputs": [
        {
          "output_type": "stream",
          "name": "stdout",
          "text": [
            "(28, 28) uint8\n"
          ]
        }
      ]
    },
    {
      "cell_type": "code",
      "source": [
        "\n",
        "# Выведем первый элемент массива на экран\n",
        "print(X_train[0])"
      ],
      "metadata": {
        "colab": {
          "base_uri": "https://localhost:8080/"
        },
        "id": "3SWaJbNwv7Hj",
        "outputId": "9a8127e8-54b4-4c86-c04b-faf83c8fb7a1"
      },
      "execution_count": 6,
      "outputs": [
        {
          "output_type": "stream",
          "name": "stdout",
          "text": [
            "[[  0   0   0   0   0   0   0   0   0   0   0   0   0   0   0   0   0   0\n",
            "    0   0   0   0   0   0   0   0   0   0]\n",
            " [  0   0   0   0   0   0   0   0   0   0   0   0   0   0   0   0   0   0\n",
            "    0   0   0   0   0   0   0   0   0   0]\n",
            " [  0   0   0   0   0   0   0   0   0   0   0   0   0   0   0   0   0   0\n",
            "    0   0   0   0   0   0   0   0   0   0]\n",
            " [  0   0   0   0   0   0   0   0   0   0   0   0   0   0   0   0   0   0\n",
            "    0   0   0   0   0   0   0   0   0   0]\n",
            " [  0   0   0   0   0   0   0   0   0   0   0   0   0   0   0   0   0   0\n",
            "    0   0   0   0   0   0   0   0   0   0]\n",
            " [  0   0   0   0   0   0   0   0   0   0   0   0   3  18  18  18 126 136\n",
            "  175  26 166 255 247 127   0   0   0   0]\n",
            " [  0   0   0   0   0   0   0   0  30  36  94 154 170 253 253 253 253 253\n",
            "  225 172 253 242 195  64   0   0   0   0]\n",
            " [  0   0   0   0   0   0   0  49 238 253 253 253 253 253 253 253 253 251\n",
            "   93  82  82  56  39   0   0   0   0   0]\n",
            " [  0   0   0   0   0   0   0  18 219 253 253 253 253 253 198 182 247 241\n",
            "    0   0   0   0   0   0   0   0   0   0]\n",
            " [  0   0   0   0   0   0   0   0  80 156 107 253 253 205  11   0  43 154\n",
            "    0   0   0   0   0   0   0   0   0   0]\n",
            " [  0   0   0   0   0   0   0   0   0  14   1 154 253  90   0   0   0   0\n",
            "    0   0   0   0   0   0   0   0   0   0]\n",
            " [  0   0   0   0   0   0   0   0   0   0   0 139 253 190   2   0   0   0\n",
            "    0   0   0   0   0   0   0   0   0   0]\n",
            " [  0   0   0   0   0   0   0   0   0   0   0  11 190 253  70   0   0   0\n",
            "    0   0   0   0   0   0   0   0   0   0]\n",
            " [  0   0   0   0   0   0   0   0   0   0   0   0  35 241 225 160 108   1\n",
            "    0   0   0   0   0   0   0   0   0   0]\n",
            " [  0   0   0   0   0   0   0   0   0   0   0   0   0  81 240 253 253 119\n",
            "   25   0   0   0   0   0   0   0   0   0]\n",
            " [  0   0   0   0   0   0   0   0   0   0   0   0   0   0  45 186 253 253\n",
            "  150  27   0   0   0   0   0   0   0   0]\n",
            " [  0   0   0   0   0   0   0   0   0   0   0   0   0   0   0  16  93 252\n",
            "  253 187   0   0   0   0   0   0   0   0]\n",
            " [  0   0   0   0   0   0   0   0   0   0   0   0   0   0   0   0   0 249\n",
            "  253 249  64   0   0   0   0   0   0   0]\n",
            " [  0   0   0   0   0   0   0   0   0   0   0   0   0   0  46 130 183 253\n",
            "  253 207   2   0   0   0   0   0   0   0]\n",
            " [  0   0   0   0   0   0   0   0   0   0   0   0  39 148 229 253 253 253\n",
            "  250 182   0   0   0   0   0   0   0   0]\n",
            " [  0   0   0   0   0   0   0   0   0   0  24 114 221 253 253 253 253 201\n",
            "   78   0   0   0   0   0   0   0   0   0]\n",
            " [  0   0   0   0   0   0   0   0  23  66 213 253 253 253 253 198  81   2\n",
            "    0   0   0   0   0   0   0   0   0   0]\n",
            " [  0   0   0   0   0   0  18 171 219 253 253 253 253 195  80   9   0   0\n",
            "    0   0   0   0   0   0   0   0   0   0]\n",
            " [  0   0   0   0  55 172 226 253 253 253 253 244 133  11   0   0   0   0\n",
            "    0   0   0   0   0   0   0   0   0   0]\n",
            " [  0   0   0   0 136 253 253 253 212 135 132  16   0   0   0   0   0   0\n",
            "    0   0   0   0   0   0   0   0   0   0]\n",
            " [  0   0   0   0   0   0   0   0   0   0   0   0   0   0   0   0   0   0\n",
            "    0   0   0   0   0   0   0   0   0   0]\n",
            " [  0   0   0   0   0   0   0   0   0   0   0   0   0   0   0   0   0   0\n",
            "    0   0   0   0   0   0   0   0   0   0]\n",
            " [  0   0   0   0   0   0   0   0   0   0   0   0   0   0   0   0   0   0\n",
            "    0   0   0   0   0   0   0   0   0   0]]\n"
          ]
        }
      ]
    },
    {
      "cell_type": "code",
      "source": [
        "print(y_train[0])"
      ],
      "metadata": {
        "colab": {
          "base_uri": "https://localhost:8080/"
        },
        "id": "TjQlgzvYwAst",
        "outputId": "3b089a11-b60d-4c09-c737-49cb0200813e"
      },
      "execution_count": 7,
      "outputs": [
        {
          "output_type": "stream",
          "name": "stdout",
          "text": [
            "5\n"
          ]
        }
      ]
    },
    {
      "cell_type": "code",
      "source": [
        "# Выведем на экран хранящееся в X_train[0] изображение\n",
        "plt.imshow(X_train[0], cmap='binary')\n",
        "plt.axis('off')"
      ],
      "metadata": {
        "colab": {
          "base_uri": "https://localhost:8080/",
          "height": 265
        },
        "id": "VmYv3bvbwHiQ",
        "outputId": "f6f637c7-3ea3-4a14-f861-77b97a169c63"
      },
      "execution_count": 8,
      "outputs": [
        {
          "output_type": "execute_result",
          "data": {
            "text/plain": [
              "(-0.5, 27.5, 27.5, -0.5)"
            ]
          },
          "metadata": {},
          "execution_count": 8
        },
        {
          "output_type": "display_data",
          "data": {
            "text/plain": [
              "<Figure size 432x288 with 1 Axes>"
            ],
            "image/png": "[encoded data removed]"
          },
          "metadata": {
            "needs_background": "light"
          }
        }
      ]
    },
    {
      "cell_type": "code",
      "source": [
        "# Преобразование данных в матрицах изображений\n",
        "# X_train.max() возвращает значение 255\n",
        "X_train = X_train/X_train.max()\n",
        "X_test = X_test/X_test.max()"
      ],
      "metadata": {
        "id": "3V0IRoG4wPKZ"
      },
      "execution_count": 9,
      "outputs": []
    },
    {
      "cell_type": "code",
      "source": [
        "# Преобразуем целевые значения методом «one-hot encoding»\n",
        "y_train = tensorflow.keras.utils.to_categorical(y_train, 10)\n",
        "y_test = tensorflow.keras.utils.to_categorical(y_test, 10)"
      ],
      "metadata": {
        "id": "dADM2DAswSl5"
      },
      "execution_count": 10,
      "outputs": []
    },
    {
      "cell_type": "code",
      "source": [
        "# Создаем модель\n",
        "model = Sequential([\n",
        "    layers.Dense(32, activation='relu', input_shape=(X_train[0].shape)),\n",
        "    layers.Dense(64, activation='relu'),\n",
        "    layers.Dense(128, activation='relu'),\n",
        "    layers.Dense(256, activation='relu'),\n",
        "    layers.Dense(512, activation='relu'),\n",
        "    layers.Flatten(),\n",
        "    layers.Dense(10, activation='sigmoid')\n",
        "]) \n",
        "# Выведем полученную модель на экран\n",
        "model.summary()"
      ],
      "metadata": {
        "colab": {
          "base_uri": "https://localhost:8080/"
        },
        "id": "kX28LkIgwWKx",
        "outputId": "0c1bbf42-3ee2-44b9-eac0-3cf82bf9990d"
      },
      "execution_count": 11,
      "outputs": [
        {
          "output_type": "stream",
          "name": "stdout",
          "text": [
            "Model: \"sequential\"\n",
            "_________________________________________________________________\n",
            " Layer (type)                Output Shape              Param #   \n",
            "=================================================================\n",
            " dense (Dense)               (None, 28, 32)            928       \n",
            "                                                                 \n",
            " dense_1 (Dense)             (None, 28, 64)            2112      \n",
            "                                                                 \n",
            " dense_2 (Dense)             (None, 28, 128)           8320      \n",
            "                                                                 \n",
            " dense_3 (Dense)             (None, 28, 256)           33024     \n",
            "                                                                 \n",
            " dense_4 (Dense)             (None, 28, 512)           131584    \n",
            "                                                                 \n",
            " flatten (Flatten)           (None, 14336)             0         \n",
            "                                                                 \n",
            " dense_5 (Dense)             (None, 10)                143370    \n",
            "                                                                 \n",
            "=================================================================\n",
            "Total params: 319,338\n",
            "Trainable params: 319,338\n",
            "Non-trainable params: 0\n",
            "_________________________________________________________________\n"
          ]
        }
      ]
    },
    {
      "cell_type": "code",
      "source": [
        "#Компиляция модели\n",
        "model.compile(loss='binary_crossentropy',\n",
        "            optimizer = Adam(lr=0.00024),\n",
        "             metrics = ['binary_accuracy'])"
      ],
      "metadata": {
        "colab": {
          "base_uri": "https://localhost:8080/"
        },
        "id": "QlO9YjUlwbG6",
        "outputId": "3893f646-f447-4707-ae63-2d163d57ccbd"
      },
      "execution_count": 12,
      "outputs": [
        {
          "output_type": "stream",
          "name": "stderr",
          "text": [
            "/usr/local/lib/python3.7/dist-packages/keras/optimizer_v2/adam.py:105: UserWarning: The `lr` argument is deprecated, use `learning_rate` instead.\n",
            "  super(Adam, self).__init__(name, **kwargs)\n"
          ]
        }
      ]
    },
    {
      "cell_type": "code",
      "source": [
        "\n",
        "# Функция ранней остановки\n",
        "stop = tf.keras.callbacks.EarlyStopping(monitor='val_loss', verbose=1, patience=6)"
      ],
      "metadata": {
        "id": "uF2kagEywfuS"
      },
      "execution_count": 14,
      "outputs": []
    },
    {
      "cell_type": "code",
      "source": [
        "# Запускаем обучение модели\n",
        "history = model.fit(X_train, y_train, batch_size=500, verbose=1, \n",
        "                    epochs= 50, validation_split = 0.2, callbacks=[stop])"
      ],
      "metadata": {
        "colab": {
          "base_uri": "https://localhost:8080/"
        },
        "id": "4Vzv2WwVw0KZ",
        "outputId": "14ed6eaf-aa58-4272-fa53-f91bfb20948b"
      },
      "execution_count": 16,
      "outputs": [
        {
          "output_type": "stream",
          "name": "stdout",
          "text": [
            "Epoch 1/50\n",
            "96/96 [==============================] - 34s 345ms/step - loss: 0.3101 - binary_accuracy: 0.8990 - val_loss: 0.1282 - val_binary_accuracy: 0.9552\n",
            "Epoch 2/50\n",
            "96/96 [==============================] - 33s 345ms/step - loss: 0.0859 - binary_accuracy: 0.9711 - val_loss: 0.0624 - val_binary_accuracy: 0.9791\n",
            "Epoch 3/50\n",
            "96/96 [==============================] - 33s 342ms/step - loss: 0.0590 - binary_accuracy: 0.9806 - val_loss: 0.0502 - val_binary_accuracy: 0.9840\n",
            "Epoch 4/50\n",
            "96/96 [==============================] - 34s 351ms/step - loss: 0.0496 - binary_accuracy: 0.9838 - val_loss: 0.0441 - val_binary_accuracy: 0.9860\n",
            "Epoch 5/50\n",
            "96/96 [==============================] - 33s 340ms/step - loss: 0.0440 - binary_accuracy: 0.9858 - val_loss: 0.0403 - val_binary_accuracy: 0.9874\n",
            "Epoch 6/50\n",
            "96/96 [==============================] - 34s 353ms/step - loss: 0.0402 - binary_accuracy: 0.9870 - val_loss: 0.0383 - val_binary_accuracy: 0.9880\n",
            "Epoch 7/50\n",
            "96/96 [==============================] - 34s 349ms/step - loss: 0.0374 - binary_accuracy: 0.9879 - val_loss: 0.0362 - val_binary_accuracy: 0.9889\n",
            "Epoch 8/50\n",
            "96/96 [==============================] - 33s 344ms/step - loss: 0.0353 - binary_accuracy: 0.9885 - val_loss: 0.0346 - val_binary_accuracy: 0.9894\n",
            "Epoch 9/50\n",
            "96/96 [==============================] - 33s 349ms/step - loss: 0.0337 - binary_accuracy: 0.9891 - val_loss: 0.0342 - val_binary_accuracy: 0.9891\n",
            "Epoch 10/50\n",
            "96/96 [==============================] - 33s 340ms/step - loss: 0.0323 - binary_accuracy: 0.9896 - val_loss: 0.0326 - val_binary_accuracy: 0.9901\n",
            "Epoch 11/50\n",
            "96/96 [==============================] - 32s 336ms/step - loss: 0.0313 - binary_accuracy: 0.9900 - val_loss: 0.0318 - val_binary_accuracy: 0.9900\n",
            "Epoch 12/50\n",
            "96/96 [==============================] - 32s 334ms/step - loss: 0.0300 - binary_accuracy: 0.9901 - val_loss: 0.0316 - val_binary_accuracy: 0.9901\n",
            "Epoch 13/50\n",
            "96/96 [==============================] - 33s 342ms/step - loss: 0.0289 - binary_accuracy: 0.9906 - val_loss: 0.0304 - val_binary_accuracy: 0.9907\n",
            "Epoch 14/50\n",
            "96/96 [==============================] - 32s 335ms/step - loss: 0.0281 - binary_accuracy: 0.9910 - val_loss: 0.0298 - val_binary_accuracy: 0.9910\n",
            "Epoch 15/50\n",
            "96/96 [==============================] - 33s 341ms/step - loss: 0.0273 - binary_accuracy: 0.9912 - val_loss: 0.0297 - val_binary_accuracy: 0.9908\n",
            "Epoch 16/50\n",
            "96/96 [==============================] - 32s 337ms/step - loss: 0.0267 - binary_accuracy: 0.9914 - val_loss: 0.0293 - val_binary_accuracy: 0.9908\n",
            "Epoch 17/50\n",
            "96/96 [==============================] - 33s 341ms/step - loss: 0.0262 - binary_accuracy: 0.9915 - val_loss: 0.0290 - val_binary_accuracy: 0.9910\n",
            "Epoch 18/50\n",
            "96/96 [==============================] - 32s 337ms/step - loss: 0.0254 - binary_accuracy: 0.9917 - val_loss: 0.0285 - val_binary_accuracy: 0.9912\n",
            "Epoch 19/50\n",
            "96/96 [==============================] - 33s 347ms/step - loss: 0.0250 - binary_accuracy: 0.9919 - val_loss: 0.0280 - val_binary_accuracy: 0.9912\n",
            "Epoch 20/50\n",
            "96/96 [==============================] - 33s 343ms/step - loss: 0.0245 - binary_accuracy: 0.9921 - val_loss: 0.0284 - val_binary_accuracy: 0.9910\n",
            "Epoch 21/50\n",
            "96/96 [==============================] - 32s 331ms/step - loss: 0.0241 - binary_accuracy: 0.9922 - val_loss: 0.0279 - val_binary_accuracy: 0.9912\n",
            "Epoch 22/50\n",
            "96/96 [==============================] - 32s 332ms/step - loss: 0.0237 - binary_accuracy: 0.9923 - val_loss: 0.0275 - val_binary_accuracy: 0.9915\n",
            "Epoch 23/50\n",
            "96/96 [==============================] - 33s 339ms/step - loss: 0.0232 - binary_accuracy: 0.9925 - val_loss: 0.0271 - val_binary_accuracy: 0.9912\n",
            "Epoch 24/50\n",
            "96/96 [==============================] - 32s 339ms/step - loss: 0.0229 - binary_accuracy: 0.9925 - val_loss: 0.0282 - val_binary_accuracy: 0.9911\n",
            "Epoch 25/50\n",
            "96/96 [==============================] - 32s 337ms/step - loss: 0.0225 - binary_accuracy: 0.9927 - val_loss: 0.0273 - val_binary_accuracy: 0.9913\n",
            "Epoch 26/50\n",
            "96/96 [==============================] - 32s 337ms/step - loss: 0.0220 - binary_accuracy: 0.9928 - val_loss: 0.0270 - val_binary_accuracy: 0.9918\n",
            "Epoch 27/50\n",
            "96/96 [==============================] - 32s 332ms/step - loss: 0.0217 - binary_accuracy: 0.9930 - val_loss: 0.0276 - val_binary_accuracy: 0.9912\n",
            "Epoch 28/50\n",
            "96/96 [==============================] - 32s 335ms/step - loss: 0.0215 - binary_accuracy: 0.9931 - val_loss: 0.0265 - val_binary_accuracy: 0.9916\n",
            "Epoch 29/50\n",
            "96/96 [==============================] - 33s 343ms/step - loss: 0.0213 - binary_accuracy: 0.9931 - val_loss: 0.0265 - val_binary_accuracy: 0.9919\n",
            "Epoch 30/50\n",
            "96/96 [==============================] - 32s 333ms/step - loss: 0.0207 - binary_accuracy: 0.9934 - val_loss: 0.0266 - val_binary_accuracy: 0.9917\n",
            "Epoch 31/50\n",
            "96/96 [==============================] - 32s 335ms/step - loss: 0.0203 - binary_accuracy: 0.9934 - val_loss: 0.0268 - val_binary_accuracy: 0.9919\n",
            "Epoch 32/50\n",
            "96/96 [==============================] - 32s 338ms/step - loss: 0.0201 - binary_accuracy: 0.9935 - val_loss: 0.0270 - val_binary_accuracy: 0.9917\n",
            "Epoch 33/50\n",
            "96/96 [==============================] - 32s 337ms/step - loss: 0.0199 - binary_accuracy: 0.9936 - val_loss: 0.0266 - val_binary_accuracy: 0.9916\n",
            "Epoch 34/50\n",
            "96/96 [==============================] - 32s 338ms/step - loss: 0.0195 - binary_accuracy: 0.9937 - val_loss: 0.0274 - val_binary_accuracy: 0.9916\n",
            "Epoch 35/50\n",
            "96/96 [==============================] - 33s 341ms/step - loss: 0.0195 - binary_accuracy: 0.9936 - val_loss: 0.0264 - val_binary_accuracy: 0.9920\n",
            "Epoch 36/50\n",
            "96/96 [==============================] - 33s 346ms/step - loss: 0.0190 - binary_accuracy: 0.9939 - val_loss: 0.0267 - val_binary_accuracy: 0.9919\n",
            "Epoch 37/50\n",
            "96/96 [==============================] - 32s 338ms/step - loss: 0.0190 - binary_accuracy: 0.9938 - val_loss: 0.0274 - val_binary_accuracy: 0.9916\n",
            "Epoch 38/50\n",
            "96/96 [==============================] - 32s 339ms/step - loss: 0.0188 - binary_accuracy: 0.9938 - val_loss: 0.0281 - val_binary_accuracy: 0.9915\n",
            "Epoch 39/50\n",
            "96/96 [==============================] - 33s 348ms/step - loss: 0.0185 - binary_accuracy: 0.9940 - val_loss: 0.0272 - val_binary_accuracy: 0.9915\n",
            "Epoch 40/50\n",
            "96/96 [==============================] - 32s 338ms/step - loss: 0.0181 - binary_accuracy: 0.9941 - val_loss: 0.0263 - val_binary_accuracy: 0.9917\n",
            "Epoch 41/50\n",
            "96/96 [==============================] - 32s 338ms/step - loss: 0.0176 - binary_accuracy: 0.9943 - val_loss: 0.0268 - val_binary_accuracy: 0.9919\n",
            "Epoch 42/50\n",
            "96/96 [==============================] - 32s 336ms/step - loss: 0.0174 - binary_accuracy: 0.9944 - val_loss: 0.0268 - val_binary_accuracy: 0.9921\n",
            "Epoch 43/50\n",
            "96/96 [==============================] - 32s 334ms/step - loss: 0.0172 - binary_accuracy: 0.9945 - val_loss: 0.0268 - val_binary_accuracy: 0.9920\n",
            "Epoch 44/50\n",
            "96/96 [==============================] - 32s 337ms/step - loss: 0.0170 - binary_accuracy: 0.9944 - val_loss: 0.0267 - val_binary_accuracy: 0.9920\n",
            "Epoch 45/50\n",
            "96/96 [==============================] - 32s 336ms/step - loss: 0.0169 - binary_accuracy: 0.9945 - val_loss: 0.0264 - val_binary_accuracy: 0.9921\n",
            "Epoch 46/50\n",
            "96/96 [==============================] - 32s 333ms/step - loss: 0.0164 - binary_accuracy: 0.9948 - val_loss: 0.0277 - val_binary_accuracy: 0.9918\n",
            "Epoch 46: early stopping\n"
          ]
        }
      ]
    },
    {
      "cell_type": "code",
      "source": [
        "\t\n",
        "# Предсказываем результат для тестовой выборки\n",
        "pred = model.predict(X_test)"
      ],
      "metadata": {
        "id": "akWQvmYSw7-F"
      },
      "execution_count": 17,
      "outputs": []
    },
    {
      "cell_type": "code",
      "source": [
        "print(pred[0])"
      ],
      "metadata": {
        "colab": {
          "base_uri": "https://localhost:8080/"
        },
        "id": "GvnVOePxxAyT",
        "outputId": "81d4ab91-ff3d-4545-8884-a131a19cd9f5"
      },
      "execution_count": 18,
      "outputs": [
        {
          "output_type": "stream",
          "name": "stdout",
          "text": [
            "[2.3939054e-20 1.5886624e-08 4.4249634e-07 3.5810471e-03 1.7687269e-13\n",
            " 3.9789081e-04 2.0229910e-25 9.9997407e-01 7.7309761e-14 2.0057642e-07]\n"
          ]
        }
      ]
    },
    {
      "cell_type": "code",
      "source": [
        "for i in range(len(pred)):\n",
        "    for j in range(10):\n",
        "        if(pred[i][j]>0.5):\n",
        "            pred[i][j]=1\n",
        "        else:\n",
        "            pred[i][j]=0"
      ],
      "metadata": {
        "id": "Q7hVUTCXxEyp"
      },
      "execution_count": 19,
      "outputs": []
    },
    {
      "cell_type": "code",
      "source": [
        "print(pred[3], y_test[3])"
      ],
      "metadata": {
        "colab": {
          "base_uri": "https://localhost:8080/"
        },
        "id": "Gn0B5iCcxJ5I",
        "outputId": "45caa7bd-dda3-4da7-cb69-3c6746ecd69f"
      },
      "execution_count": 20,
      "outputs": [
        {
          "output_type": "stream",
          "name": "stdout",
          "text": [
            "[1. 0. 0. 0. 0. 0. 0. 0. 0. 0.] [1. 0. 0. 0. 0. 0. 0. 0. 0. 0.]\n"
          ]
        }
      ]
    },
    {
      "cell_type": "code",
      "source": [
        "import tensorflow as tf\n",
        "(x_train, y_train), (x_test, y_test) = tf.keras.datasets.mnist.load_data()"
      ],
      "metadata": {
        "id": "wYDghjz5CA2j"
      },
      "execution_count": 33,
      "outputs": []
    },
    {
      "cell_type": "code",
      "source": [
        "import matplotlib.pyplot as plt\n",
        "%matplotlib inline # Only use this if using iPython\n",
        "image_index = 7777 # You may select anything up to 60,000\n",
        "print(y_train[image_index]) # The label is 8\n",
        "plt.imshow(x_train[image_index], cmap='Greys')"
      ],
      "metadata": {
        "id": "u_gQ1WPMCGbk",
        "outputId": "6f82c5e9-9cb6-4f49-e80e-866f3f6b0a4a",
        "colab": {
          "base_uri": "https://localhost:8080/"
        }
      },
      "execution_count": 36,
      "outputs": [
        {
          "output_type": "stream",
          "name": "stderr",
          "text": [
            "UsageError: unrecognized arguments: # Only use this if using iPython\n"
          ]
        }
      ]
    },
    {
      "cell_type": "markdown",
      "source": [
        ""
      ],
      "metadata": {
        "id": "WStGeGi3CMAW"
      }
    },
    {
      "cell_type": "code",
      "source": [
        "x_train.shape"
      ],
      "metadata": {
        "id": "TpAoUnvDCaFT",
        "outputId": "a7cc670b-2bc3-42c8-8448-993bd512678c",
        "colab": {
          "base_uri": "https://localhost:8080/"
        }
      },
      "execution_count": 37,
      "outputs": [
        {
          "output_type": "execute_result",
          "data": {
            "text/plain": [
              "(60000, 28, 28)"
            ]
          },
          "metadata": {},
          "execution_count": 37
        }
      ]
    },
    {
      "cell_type": "code",
      "source": [
        "# Reshaping the array to 4-dims so that it can work with the Keras API\n",
        "x_train = x_train.reshape(x_train.shape[0], 28, 28, 1)\n",
        "x_test = x_test.reshape(x_test.shape[0], 28, 28, 1)\n",
        "input_shape = (28, 28, 1)\n",
        "# Making sure that the values are float so that we can get decimal points after division\n",
        "x_train = x_train.astype('float32')\n",
        "x_test = x_test.astype('float32')\n",
        "# Normalizing the RGB codes by dividing it to the max RGB value.\n",
        "x_train /= 255\n",
        "x_test /= 255\n",
        "print('x_train shape:', x_train.shape)\n",
        "print('Number of images in x_train', x_train.shape[0])\n",
        "print('Number of images in x_test', x_test.shape[0])"
      ],
      "metadata": {
        "id": "NNC7hdZSDIjD",
        "outputId": "e74b2bd5-99aa-4214-f94f-7d0a97cbb734",
        "colab": {
          "base_uri": "https://localhost:8080/"
        }
      },
      "execution_count": 38,
      "outputs": [
        {
          "output_type": "stream",
          "name": "stdout",
          "text": [
            "x_train shape: (60000, 28, 28, 1)\n",
            "Number of images in x_train 60000\n",
            "Number of images in x_test 10000\n"
          ]
        }
      ]
    },
    {
      "cell_type": "code",
      "source": [
        "# Importing the required Keras modules containing model and layers\n",
        "from tensorflow.keras.models import Sequential\n",
        "from tensorflow.keras.layers import Dense, Conv2D, Dropout, Flatten, MaxPooling2D\n",
        "# Creating a Sequential Model and adding the layers\n",
        "model = Sequential()\n",
        "model.add(Conv2D(28, kernel_size=(3,3), input_shape=input_shape))\n",
        "model.add(MaxPooling2D(pool_size=(2, 2)))\n",
        "model.add(Flatten()) # Flattening the 2D arrays for fully connected layers\n",
        "model.add(Dense(128, activation=tf.nn.relu))\n",
        "model.add(Dropout(0.2))\n",
        "model.add(Dense(10,activation=tf.nn.softmax))"
      ],
      "metadata": {
        "id": "sdOhIUOtDXF4"
      },
      "execution_count": 39,
      "outputs": []
    },
    {
      "cell_type": "code",
      "source": [
        "model.compile(optimizer='adam', \n",
        "              loss='sparse_categorical_crossentropy', \n",
        "              metrics=['accuracy'])\n",
        "model.fit(x=x_train,y=y_train, epochs=10)"
      ],
      "metadata": {
        "id": "4-tYVQi4Db4t",
        "outputId": "cb2e74b1-f6a1-4d17-c9be-a204caf769d2",
        "colab": {
          "base_uri": "https://localhost:8080/"
        }
      },
      "execution_count": 40,
      "outputs": [
        {
          "output_type": "stream",
          "name": "stdout",
          "text": [
            "Epoch 1/10\n",
            "1875/1875 [==============================] - 37s 19ms/step - loss: 0.1993 - accuracy: 0.9393\n",
            "Epoch 2/10\n",
            "1875/1875 [==============================] - 34s 18ms/step - loss: 0.0798 - accuracy: 0.9762\n",
            "Epoch 3/10\n",
            "1875/1875 [==============================] - 33s 18ms/step - loss: 0.0540 - accuracy: 0.9822\n",
            "Epoch 4/10\n",
            "1875/1875 [==============================] - 34s 18ms/step - loss: 0.0413 - accuracy: 0.9867\n",
            "Epoch 5/10\n",
            "1875/1875 [==============================] - 33s 18ms/step - loss: 0.0332 - accuracy: 0.9889\n",
            "Epoch 6/10\n",
            "1875/1875 [==============================] - 33s 17ms/step - loss: 0.0274 - accuracy: 0.9911\n",
            "Epoch 7/10\n",
            "1875/1875 [==============================] - 33s 18ms/step - loss: 0.0227 - accuracy: 0.9925\n",
            "Epoch 8/10\n",
            "1875/1875 [==============================] - 33s 17ms/step - loss: 0.0197 - accuracy: 0.9936\n",
            "Epoch 9/10\n",
            "1875/1875 [==============================] - 35s 18ms/step - loss: 0.0191 - accuracy: 0.9935\n",
            "Epoch 10/10\n",
            "1875/1875 [==============================] - 34s 18ms/step - loss: 0.0174 - accuracy: 0.9941\n"
          ]
        },
        {
          "output_type": "execute_result",
          "data": {
            "text/plain": [
              "<keras.callbacks.History at 0x7ff437966890>"
            ]
          },
          "metadata": {},
          "execution_count": 40
        }
      ]
    },
    {
      "cell_type": "code",
      "source": [
        "model.evaluate(x_test, y_test)"
      ],
      "metadata": {
        "id": "xxqroZx2Dipb",
        "outputId": "d1dd1b9d-21bb-46a0-cd6a-015ec733092a",
        "colab": {
          "base_uri": "https://localhost:8080/"
        }
      },
      "execution_count": 41,
      "outputs": [
        {
          "output_type": "stream",
          "name": "stdout",
          "text": [
            "313/313 [==============================] - 2s 7ms/step - loss: 0.0568 - accuracy: 0.9850\n"
          ]
        },
        {
          "output_type": "execute_result",
          "data": {
            "text/plain": [
              "[0.056809838861227036, 0.9850000143051147]"
            ]
          },
          "metadata": {},
          "execution_count": 41
        }
      ]
    },
    {
      "cell_type": "code",
      "source": [
        "image_index = 4444\n",
        "plt.imshow(x_test[image_index].reshape(28, 28),cmap='Greys')\n",
        "pred = model.predict(x_test[image_index].reshape(1, 28, 28, 1))\n",
        "print(pred.argmax())"
      ],
      "metadata": {
        "id": "lQRCKg5yDl3L",
        "outputId": "ebe913d8-687b-41ae-8379-c2a83728667a",
        "colab": {
          "base_uri": "https://localhost:8080/",
          "height": 282
        }
      },
      "execution_count": 42,
      "outputs": [
        {
          "output_type": "stream",
          "name": "stdout",
          "text": [
            "9\n"
          ]
        },
        {
          "output_type": "display_data",
          "data": {
            "text/plain": [
              "<Figure size 432x288 with 1 Axes>"
            ],
            "image/png": "[encoded data removed]"
          },
          "metadata": {
            "needs_background": "light"
          }
        }
      ]
    }
  ],
  "metadata": {
    "colab": {
      "collapsed_sections": [],
      "name": "Welcome To Colaboratory",
      "toc_visible": true,
      "provenance": []
    },
    "kernelspec": {
      "display_name": "Python 3",
      "name": "python3"
    }
  },
  "nbformat": 4,
  "nbformat_minor": 0
}